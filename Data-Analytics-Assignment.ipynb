{
 "cells": [
  {
   "cell_type": "markdown",
   "metadata": {},
   "source": [
    "# Machine Learning Assignment 1\n",
    "\n",
    "**DT228B/1**\n",
    "\n",
    "**Group Assignment - 2019**\n",
    "\n",
    "***\n",
    "\n",
    "| **Name** | **Student Number** |\n",
    "| :--- | --- |\n",
    "| Clayton Barrozo | D17123635 |\n",
    "| Luis Perez | D16128800 |\n",
    "\n",
    "***\n",
    "\n",
    "## Initializations\n",
    "### Preparing Libraries"
   ]
  },
  {
   "cell_type": "code",
   "execution_count": 43,
   "metadata": {},
   "outputs": [],
   "source": [
    "import matplotlib.pyplot as plt\n",
    "import numpy as np\n",
    "import pandas as pd\n",
    "import seaborn as sns\n",
    "import time\n",
    "\n",
    "from hyperopt import hp, tpe, Trials, STATUS_OK, fmin\n",
    "from sklearn import preprocessing\n",
    "from sklearn.cluster import MiniBatchKMeans\n",
    "from sklearn.metrics import precision_score, roc_auc_score, accuracy_score, confusion_matrix, pairwise_distances_argmin_min\n",
    "from sklearn.model_selection import train_test_split, cross_val_score\n",
    "from sklearn.tree import DecisionTreeClassifier\n",
    "from xgboost import XGBClassifier\n",
    "\n",
    "# Comment this if the data visualisations doesn't work on your side\n",
    "%matplotlib inline"
   ]
  },
  {
   "cell_type": "markdown",
   "metadata": {},
   "source": [
    "### Loading Dataset"
   ]
  },
  {
   "cell_type": "code",
   "execution_count": 2,
   "metadata": {},
   "outputs": [],
   "source": [
    "train_ds = pd.read_csv(\"./data/train.csv\")"
   ]
  },
  {
   "cell_type": "code",
   "execution_count": 3,
   "metadata": {},
   "outputs": [
    {
     "data": {
      "text/html": [
       "<div>\n",
       "<style scoped>\n",
       "    .dataframe tbody tr th:only-of-type {\n",
       "        vertical-align: middle;\n",
       "    }\n",
       "\n",
       "    .dataframe tbody tr th {\n",
       "        vertical-align: top;\n",
       "    }\n",
       "\n",
       "    .dataframe thead th {\n",
       "        text-align: right;\n",
       "    }\n",
       "</style>\n",
       "<table border=\"1\" class=\"dataframe\">\n",
       "  <thead>\n",
       "    <tr style=\"text-align: right;\">\n",
       "      <th></th>\n",
       "      <th>ID_code</th>\n",
       "      <th>target</th>\n",
       "      <th>var_0</th>\n",
       "      <th>var_1</th>\n",
       "      <th>var_2</th>\n",
       "      <th>var_3</th>\n",
       "      <th>var_4</th>\n",
       "      <th>var_5</th>\n",
       "      <th>var_6</th>\n",
       "      <th>var_7</th>\n",
       "      <th>...</th>\n",
       "      <th>var_190</th>\n",
       "      <th>var_191</th>\n",
       "      <th>var_192</th>\n",
       "      <th>var_193</th>\n",
       "      <th>var_194</th>\n",
       "      <th>var_195</th>\n",
       "      <th>var_196</th>\n",
       "      <th>var_197</th>\n",
       "      <th>var_198</th>\n",
       "      <th>var_199</th>\n",
       "    </tr>\n",
       "  </thead>\n",
       "  <tbody>\n",
       "    <tr>\n",
       "      <th>0</th>\n",
       "      <td>train_0</td>\n",
       "      <td>0</td>\n",
       "      <td>8.9255</td>\n",
       "      <td>-6.7863</td>\n",
       "      <td>11.9081</td>\n",
       "      <td>5.0930</td>\n",
       "      <td>11.4607</td>\n",
       "      <td>-9.2834</td>\n",
       "      <td>5.1187</td>\n",
       "      <td>18.6266</td>\n",
       "      <td>...</td>\n",
       "      <td>4.4354</td>\n",
       "      <td>3.9642</td>\n",
       "      <td>3.1364</td>\n",
       "      <td>1.6910</td>\n",
       "      <td>18.5227</td>\n",
       "      <td>-2.3978</td>\n",
       "      <td>7.8784</td>\n",
       "      <td>8.5635</td>\n",
       "      <td>12.7803</td>\n",
       "      <td>-1.0914</td>\n",
       "    </tr>\n",
       "    <tr>\n",
       "      <th>1</th>\n",
       "      <td>train_1</td>\n",
       "      <td>0</td>\n",
       "      <td>11.5006</td>\n",
       "      <td>-4.1473</td>\n",
       "      <td>13.8588</td>\n",
       "      <td>5.3890</td>\n",
       "      <td>12.3622</td>\n",
       "      <td>7.0433</td>\n",
       "      <td>5.6208</td>\n",
       "      <td>16.5338</td>\n",
       "      <td>...</td>\n",
       "      <td>7.6421</td>\n",
       "      <td>7.7214</td>\n",
       "      <td>2.5837</td>\n",
       "      <td>10.9516</td>\n",
       "      <td>15.4305</td>\n",
       "      <td>2.0339</td>\n",
       "      <td>8.1267</td>\n",
       "      <td>8.7889</td>\n",
       "      <td>18.3560</td>\n",
       "      <td>1.9518</td>\n",
       "    </tr>\n",
       "    <tr>\n",
       "      <th>2</th>\n",
       "      <td>train_2</td>\n",
       "      <td>0</td>\n",
       "      <td>8.6093</td>\n",
       "      <td>-2.7457</td>\n",
       "      <td>12.0805</td>\n",
       "      <td>7.8928</td>\n",
       "      <td>10.5825</td>\n",
       "      <td>-9.0837</td>\n",
       "      <td>6.9427</td>\n",
       "      <td>14.6155</td>\n",
       "      <td>...</td>\n",
       "      <td>2.9057</td>\n",
       "      <td>9.7905</td>\n",
       "      <td>1.6704</td>\n",
       "      <td>1.6858</td>\n",
       "      <td>21.6042</td>\n",
       "      <td>3.1417</td>\n",
       "      <td>-6.5213</td>\n",
       "      <td>8.2675</td>\n",
       "      <td>14.7222</td>\n",
       "      <td>0.3965</td>\n",
       "    </tr>\n",
       "    <tr>\n",
       "      <th>3</th>\n",
       "      <td>train_3</td>\n",
       "      <td>0</td>\n",
       "      <td>11.0604</td>\n",
       "      <td>-2.1518</td>\n",
       "      <td>8.9522</td>\n",
       "      <td>7.1957</td>\n",
       "      <td>12.5846</td>\n",
       "      <td>-1.8361</td>\n",
       "      <td>5.8428</td>\n",
       "      <td>14.9250</td>\n",
       "      <td>...</td>\n",
       "      <td>4.4666</td>\n",
       "      <td>4.7433</td>\n",
       "      <td>0.7178</td>\n",
       "      <td>1.4214</td>\n",
       "      <td>23.0347</td>\n",
       "      <td>-1.2706</td>\n",
       "      <td>-2.9275</td>\n",
       "      <td>10.2922</td>\n",
       "      <td>17.9697</td>\n",
       "      <td>-8.9996</td>\n",
       "    </tr>\n",
       "    <tr>\n",
       "      <th>4</th>\n",
       "      <td>train_4</td>\n",
       "      <td>0</td>\n",
       "      <td>9.8369</td>\n",
       "      <td>-1.4834</td>\n",
       "      <td>12.8746</td>\n",
       "      <td>6.6375</td>\n",
       "      <td>12.2772</td>\n",
       "      <td>2.4486</td>\n",
       "      <td>5.9405</td>\n",
       "      <td>19.2514</td>\n",
       "      <td>...</td>\n",
       "      <td>-1.4905</td>\n",
       "      <td>9.5214</td>\n",
       "      <td>-0.1508</td>\n",
       "      <td>9.1942</td>\n",
       "      <td>13.2876</td>\n",
       "      <td>-1.5121</td>\n",
       "      <td>3.9267</td>\n",
       "      <td>9.5031</td>\n",
       "      <td>17.9974</td>\n",
       "      <td>-8.8104</td>\n",
       "    </tr>\n",
       "  </tbody>\n",
       "</table>\n",
       "<p>5 rows × 202 columns</p>\n",
       "</div>"
      ],
      "text/plain": [
       "   ID_code  target    var_0   var_1    var_2   var_3    var_4   var_5   var_6  \\\n",
       "0  train_0       0   8.9255 -6.7863  11.9081  5.0930  11.4607 -9.2834  5.1187   \n",
       "1  train_1       0  11.5006 -4.1473  13.8588  5.3890  12.3622  7.0433  5.6208   \n",
       "2  train_2       0   8.6093 -2.7457  12.0805  7.8928  10.5825 -9.0837  6.9427   \n",
       "3  train_3       0  11.0604 -2.1518   8.9522  7.1957  12.5846 -1.8361  5.8428   \n",
       "4  train_4       0   9.8369 -1.4834  12.8746  6.6375  12.2772  2.4486  5.9405   \n",
       "\n",
       "     var_7   ...     var_190  var_191  var_192  var_193  var_194  var_195  \\\n",
       "0  18.6266   ...      4.4354   3.9642   3.1364   1.6910  18.5227  -2.3978   \n",
       "1  16.5338   ...      7.6421   7.7214   2.5837  10.9516  15.4305   2.0339   \n",
       "2  14.6155   ...      2.9057   9.7905   1.6704   1.6858  21.6042   3.1417   \n",
       "3  14.9250   ...      4.4666   4.7433   0.7178   1.4214  23.0347  -1.2706   \n",
       "4  19.2514   ...     -1.4905   9.5214  -0.1508   9.1942  13.2876  -1.5121   \n",
       "\n",
       "   var_196  var_197  var_198  var_199  \n",
       "0   7.8784   8.5635  12.7803  -1.0914  \n",
       "1   8.1267   8.7889  18.3560   1.9518  \n",
       "2  -6.5213   8.2675  14.7222   0.3965  \n",
       "3  -2.9275  10.2922  17.9697  -8.9996  \n",
       "4   3.9267   9.5031  17.9974  -8.8104  \n",
       "\n",
       "[5 rows x 202 columns]"
      ]
     },
     "execution_count": 3,
     "metadata": {},
     "output_type": "execute_result"
    }
   ],
   "source": [
    "train_ds.head()"
   ]
  },
  {
   "cell_type": "markdown",
   "metadata": {},
   "source": [
    "## Exploratory Data Analysis\n",
    "### Dataset Details"
   ]
  },
  {
   "cell_type": "code",
   "execution_count": 4,
   "metadata": {},
   "outputs": [
    {
     "name": "stdout",
     "output_type": "stream",
     "text": [
      "<class 'pandas.core.frame.DataFrame'>\n",
      "RangeIndex: 200000 entries, 0 to 199999\n",
      "Columns: 202 entries, ID_code to var_199\n",
      "dtypes: float64(200), int64(1), object(1)\n",
      "memory usage: 308.2+ MB\n"
     ]
    }
   ],
   "source": [
    "train_ds.info()"
   ]
  },
  {
   "cell_type": "markdown",
   "metadata": {},
   "source": [
    "The dataset contains 200,000 instances and 200 numeric (continuous/ ratio) features. Additional features have been included to identify instance by a label and to specify the target class of each instance.\n",
    "\n",
    "### Missing Values\n",
    "\n",
    "Identify number of missing values in the dataset."
   ]
  },
  {
   "cell_type": "code",
   "execution_count": 5,
   "metadata": {},
   "outputs": [
    {
     "name": "stdout",
     "output_type": "stream",
     "text": [
      "Missing Values Count (Train) =  0\n"
     ]
    }
   ],
   "source": [
    "print('Missing Values Count (Train) = ', str(train_ds.isna().values.sum()))"
   ]
  },
  {
   "cell_type": "markdown",
   "metadata": {},
   "source": [
    "The dataset contains no missing values.\n",
    "\n",
    "### Feature Distributions"
   ]
  },
  {
   "cell_type": "code",
   "execution_count": 6,
   "metadata": {
    "scrolled": true
   },
   "outputs": [
    {
     "data": {
      "text/html": [
       "<div>\n",
       "<style scoped>\n",
       "    .dataframe tbody tr th:only-of-type {\n",
       "        vertical-align: middle;\n",
       "    }\n",
       "\n",
       "    .dataframe tbody tr th {\n",
       "        vertical-align: top;\n",
       "    }\n",
       "\n",
       "    .dataframe thead th {\n",
       "        text-align: right;\n",
       "    }\n",
       "</style>\n",
       "<table border=\"1\" class=\"dataframe\">\n",
       "  <thead>\n",
       "    <tr style=\"text-align: right;\">\n",
       "      <th></th>\n",
       "      <th>target</th>\n",
       "      <th>var_0</th>\n",
       "      <th>var_1</th>\n",
       "      <th>var_2</th>\n",
       "      <th>var_3</th>\n",
       "      <th>var_4</th>\n",
       "      <th>var_5</th>\n",
       "      <th>var_6</th>\n",
       "      <th>var_7</th>\n",
       "      <th>var_8</th>\n",
       "      <th>...</th>\n",
       "      <th>var_190</th>\n",
       "      <th>var_191</th>\n",
       "      <th>var_192</th>\n",
       "      <th>var_193</th>\n",
       "      <th>var_194</th>\n",
       "      <th>var_195</th>\n",
       "      <th>var_196</th>\n",
       "      <th>var_197</th>\n",
       "      <th>var_198</th>\n",
       "      <th>var_199</th>\n",
       "    </tr>\n",
       "  </thead>\n",
       "  <tbody>\n",
       "    <tr>\n",
       "      <th>count</th>\n",
       "      <td>200000.000000</td>\n",
       "      <td>200000.000000</td>\n",
       "      <td>200000.000000</td>\n",
       "      <td>200000.000000</td>\n",
       "      <td>200000.000000</td>\n",
       "      <td>200000.000000</td>\n",
       "      <td>200000.000000</td>\n",
       "      <td>200000.000000</td>\n",
       "      <td>200000.000000</td>\n",
       "      <td>200000.000000</td>\n",
       "      <td>...</td>\n",
       "      <td>200000.000000</td>\n",
       "      <td>200000.000000</td>\n",
       "      <td>200000.000000</td>\n",
       "      <td>200000.000000</td>\n",
       "      <td>200000.000000</td>\n",
       "      <td>200000.000000</td>\n",
       "      <td>200000.000000</td>\n",
       "      <td>200000.000000</td>\n",
       "      <td>200000.000000</td>\n",
       "      <td>200000.000000</td>\n",
       "    </tr>\n",
       "    <tr>\n",
       "      <th>mean</th>\n",
       "      <td>0.100490</td>\n",
       "      <td>10.679914</td>\n",
       "      <td>-1.627622</td>\n",
       "      <td>10.715192</td>\n",
       "      <td>6.796529</td>\n",
       "      <td>11.078333</td>\n",
       "      <td>-5.065317</td>\n",
       "      <td>5.408949</td>\n",
       "      <td>16.545850</td>\n",
       "      <td>0.284162</td>\n",
       "      <td>...</td>\n",
       "      <td>3.234440</td>\n",
       "      <td>7.438408</td>\n",
       "      <td>1.927839</td>\n",
       "      <td>3.331774</td>\n",
       "      <td>17.993784</td>\n",
       "      <td>-0.142088</td>\n",
       "      <td>2.303335</td>\n",
       "      <td>8.908158</td>\n",
       "      <td>15.870720</td>\n",
       "      <td>-3.326537</td>\n",
       "    </tr>\n",
       "    <tr>\n",
       "      <th>std</th>\n",
       "      <td>0.300653</td>\n",
       "      <td>3.040051</td>\n",
       "      <td>4.050044</td>\n",
       "      <td>2.640894</td>\n",
       "      <td>2.043319</td>\n",
       "      <td>1.623150</td>\n",
       "      <td>7.863267</td>\n",
       "      <td>0.866607</td>\n",
       "      <td>3.418076</td>\n",
       "      <td>3.332634</td>\n",
       "      <td>...</td>\n",
       "      <td>4.559922</td>\n",
       "      <td>3.023272</td>\n",
       "      <td>1.478423</td>\n",
       "      <td>3.992030</td>\n",
       "      <td>3.135162</td>\n",
       "      <td>1.429372</td>\n",
       "      <td>5.454369</td>\n",
       "      <td>0.921625</td>\n",
       "      <td>3.010945</td>\n",
       "      <td>10.438015</td>\n",
       "    </tr>\n",
       "    <tr>\n",
       "      <th>min</th>\n",
       "      <td>0.000000</td>\n",
       "      <td>0.408400</td>\n",
       "      <td>-15.043400</td>\n",
       "      <td>2.117100</td>\n",
       "      <td>-0.040200</td>\n",
       "      <td>5.074800</td>\n",
       "      <td>-32.562600</td>\n",
       "      <td>2.347300</td>\n",
       "      <td>5.349700</td>\n",
       "      <td>-10.505500</td>\n",
       "      <td>...</td>\n",
       "      <td>-14.093300</td>\n",
       "      <td>-2.691700</td>\n",
       "      <td>-3.814500</td>\n",
       "      <td>-11.783400</td>\n",
       "      <td>8.694400</td>\n",
       "      <td>-5.261000</td>\n",
       "      <td>-14.209600</td>\n",
       "      <td>5.960600</td>\n",
       "      <td>6.299300</td>\n",
       "      <td>-38.852800</td>\n",
       "    </tr>\n",
       "    <tr>\n",
       "      <th>25%</th>\n",
       "      <td>0.000000</td>\n",
       "      <td>8.453850</td>\n",
       "      <td>-4.740025</td>\n",
       "      <td>8.722475</td>\n",
       "      <td>5.254075</td>\n",
       "      <td>9.883175</td>\n",
       "      <td>-11.200350</td>\n",
       "      <td>4.767700</td>\n",
       "      <td>13.943800</td>\n",
       "      <td>-2.317800</td>\n",
       "      <td>...</td>\n",
       "      <td>-0.058825</td>\n",
       "      <td>5.157400</td>\n",
       "      <td>0.889775</td>\n",
       "      <td>0.584600</td>\n",
       "      <td>15.629800</td>\n",
       "      <td>-1.170700</td>\n",
       "      <td>-1.946925</td>\n",
       "      <td>8.252800</td>\n",
       "      <td>13.829700</td>\n",
       "      <td>-11.208475</td>\n",
       "    </tr>\n",
       "    <tr>\n",
       "      <th>50%</th>\n",
       "      <td>0.000000</td>\n",
       "      <td>10.524750</td>\n",
       "      <td>-1.608050</td>\n",
       "      <td>10.580000</td>\n",
       "      <td>6.825000</td>\n",
       "      <td>11.108250</td>\n",
       "      <td>-4.833150</td>\n",
       "      <td>5.385100</td>\n",
       "      <td>16.456800</td>\n",
       "      <td>0.393700</td>\n",
       "      <td>...</td>\n",
       "      <td>3.203600</td>\n",
       "      <td>7.347750</td>\n",
       "      <td>1.901300</td>\n",
       "      <td>3.396350</td>\n",
       "      <td>17.957950</td>\n",
       "      <td>-0.172700</td>\n",
       "      <td>2.408900</td>\n",
       "      <td>8.888200</td>\n",
       "      <td>15.934050</td>\n",
       "      <td>-2.819550</td>\n",
       "    </tr>\n",
       "    <tr>\n",
       "      <th>75%</th>\n",
       "      <td>0.000000</td>\n",
       "      <td>12.758200</td>\n",
       "      <td>1.358625</td>\n",
       "      <td>12.516700</td>\n",
       "      <td>8.324100</td>\n",
       "      <td>12.261125</td>\n",
       "      <td>0.924800</td>\n",
       "      <td>6.003000</td>\n",
       "      <td>19.102900</td>\n",
       "      <td>2.937900</td>\n",
       "      <td>...</td>\n",
       "      <td>6.406200</td>\n",
       "      <td>9.512525</td>\n",
       "      <td>2.949500</td>\n",
       "      <td>6.205800</td>\n",
       "      <td>20.396525</td>\n",
       "      <td>0.829600</td>\n",
       "      <td>6.556725</td>\n",
       "      <td>9.593300</td>\n",
       "      <td>18.064725</td>\n",
       "      <td>4.836800</td>\n",
       "    </tr>\n",
       "    <tr>\n",
       "      <th>max</th>\n",
       "      <td>1.000000</td>\n",
       "      <td>20.315000</td>\n",
       "      <td>10.376800</td>\n",
       "      <td>19.353000</td>\n",
       "      <td>13.188300</td>\n",
       "      <td>16.671400</td>\n",
       "      <td>17.251600</td>\n",
       "      <td>8.447700</td>\n",
       "      <td>27.691800</td>\n",
       "      <td>10.151300</td>\n",
       "      <td>...</td>\n",
       "      <td>18.440900</td>\n",
       "      <td>16.716500</td>\n",
       "      <td>8.402400</td>\n",
       "      <td>18.281800</td>\n",
       "      <td>27.928800</td>\n",
       "      <td>4.272900</td>\n",
       "      <td>18.321500</td>\n",
       "      <td>12.000400</td>\n",
       "      <td>26.079100</td>\n",
       "      <td>28.500700</td>\n",
       "    </tr>\n",
       "  </tbody>\n",
       "</table>\n",
       "<p>8 rows × 201 columns</p>\n",
       "</div>"
      ],
      "text/plain": [
       "              target          var_0          var_1          var_2  \\\n",
       "count  200000.000000  200000.000000  200000.000000  200000.000000   \n",
       "mean        0.100490      10.679914      -1.627622      10.715192   \n",
       "std         0.300653       3.040051       4.050044       2.640894   \n",
       "min         0.000000       0.408400     -15.043400       2.117100   \n",
       "25%         0.000000       8.453850      -4.740025       8.722475   \n",
       "50%         0.000000      10.524750      -1.608050      10.580000   \n",
       "75%         0.000000      12.758200       1.358625      12.516700   \n",
       "max         1.000000      20.315000      10.376800      19.353000   \n",
       "\n",
       "               var_3          var_4          var_5          var_6  \\\n",
       "count  200000.000000  200000.000000  200000.000000  200000.000000   \n",
       "mean        6.796529      11.078333      -5.065317       5.408949   \n",
       "std         2.043319       1.623150       7.863267       0.866607   \n",
       "min        -0.040200       5.074800     -32.562600       2.347300   \n",
       "25%         5.254075       9.883175     -11.200350       4.767700   \n",
       "50%         6.825000      11.108250      -4.833150       5.385100   \n",
       "75%         8.324100      12.261125       0.924800       6.003000   \n",
       "max        13.188300      16.671400      17.251600       8.447700   \n",
       "\n",
       "               var_7          var_8      ...              var_190  \\\n",
       "count  200000.000000  200000.000000      ...        200000.000000   \n",
       "mean       16.545850       0.284162      ...             3.234440   \n",
       "std         3.418076       3.332634      ...             4.559922   \n",
       "min         5.349700     -10.505500      ...           -14.093300   \n",
       "25%        13.943800      -2.317800      ...            -0.058825   \n",
       "50%        16.456800       0.393700      ...             3.203600   \n",
       "75%        19.102900       2.937900      ...             6.406200   \n",
       "max        27.691800      10.151300      ...            18.440900   \n",
       "\n",
       "             var_191        var_192        var_193        var_194  \\\n",
       "count  200000.000000  200000.000000  200000.000000  200000.000000   \n",
       "mean        7.438408       1.927839       3.331774      17.993784   \n",
       "std         3.023272       1.478423       3.992030       3.135162   \n",
       "min        -2.691700      -3.814500     -11.783400       8.694400   \n",
       "25%         5.157400       0.889775       0.584600      15.629800   \n",
       "50%         7.347750       1.901300       3.396350      17.957950   \n",
       "75%         9.512525       2.949500       6.205800      20.396525   \n",
       "max        16.716500       8.402400      18.281800      27.928800   \n",
       "\n",
       "             var_195        var_196        var_197        var_198  \\\n",
       "count  200000.000000  200000.000000  200000.000000  200000.000000   \n",
       "mean       -0.142088       2.303335       8.908158      15.870720   \n",
       "std         1.429372       5.454369       0.921625       3.010945   \n",
       "min        -5.261000     -14.209600       5.960600       6.299300   \n",
       "25%        -1.170700      -1.946925       8.252800      13.829700   \n",
       "50%        -0.172700       2.408900       8.888200      15.934050   \n",
       "75%         0.829600       6.556725       9.593300      18.064725   \n",
       "max         4.272900      18.321500      12.000400      26.079100   \n",
       "\n",
       "             var_199  \n",
       "count  200000.000000  \n",
       "mean       -3.326537  \n",
       "std        10.438015  \n",
       "min       -38.852800  \n",
       "25%       -11.208475  \n",
       "50%        -2.819550  \n",
       "75%         4.836800  \n",
       "max        28.500700  \n",
       "\n",
       "[8 rows x 201 columns]"
      ]
     },
     "execution_count": 6,
     "metadata": {},
     "output_type": "execute_result"
    }
   ],
   "source": [
    "train_ds.describe()"
   ]
  },
  {
   "cell_type": "code",
   "execution_count": 7,
   "metadata": {},
   "outputs": [],
   "source": [
    "# Dividing features in 4 groups of 50 to facilitate their visualization\n",
    "train_ds_features = train_ds.iloc[:, 2:]\n",
    "train_ds_feat_1 = train_ds.iloc[:, 2:52]\n",
    "train_ds_feat_50 = train_ds.iloc[:, 52:102]\n",
    "train_ds_feat_100 = train_ds.iloc[:, 102:152]\n",
    "train_ds_feat_150 = train_ds.iloc[:, 152:]"
   ]
  },
  {
   "cell_type": "code",
   "execution_count": 8,
   "metadata": {},
   "outputs": [
    {
     "data": {
      "image/png": "[encoded data removed]",
      "text/plain": [
       "<Figure size 1152x1440 with 56 Axes>"
      ]
     },
     "metadata": {
      "needs_background": "light"
     },
     "output_type": "display_data"
    }
   ],
   "source": [
    "train_ds_feat_1.hist(figsize=(16, 20), bins=50, xlabelsize=8, ylabelsize=8);"
   ]
  },
  {
   "cell_type": "code",
   "execution_count": 9,
   "metadata": {},
   "outputs": [
    {
     "data": {
      "image/png": "[encoded data removed]",
      "text/plain": [
       "<Figure size 1152x1440 with 56 Axes>"
      ]
     },
     "metadata": {
      "needs_background": "light"
     },
     "output_type": "display_data"
    }
   ],
   "source": [
    "train_ds_feat_50.hist(figsize=(16, 20), bins=50, xlabelsize=8, ylabelsize=8);"
   ]
  },
  {
   "cell_type": "code",
   "execution_count": 10,
   "metadata": {},
   "outputs": [
    {
     "data": {
      "image/png": "[encoded data removed]",
      "text/plain": [
       "<Figure size 1152x1440 with 56 Axes>"
      ]
     },
     "metadata": {
      "needs_background": "light"
     },
     "output_type": "display_data"
    }
   ],
   "source": [
    "train_ds_feat_100.hist(figsize=(16, 20), bins=50, xlabelsize=8, ylabelsize=8);"
   ]
  },
  {
   "cell_type": "code",
   "execution_count": 11,
   "metadata": {},
   "outputs": [
    {
     "data": {
      "image/png": "[encoded data removed]",
      "text/plain": [
       "<Figure size 1152x1440 with 56 Axes>"
      ]
     },
     "metadata": {
      "needs_background": "light"
     },
     "output_type": "display_data"
    }
   ],
   "source": [
    "train_ds_feat_150.hist(figsize=(16, 20), bins=50, xlabelsize=8, ylabelsize=8);"
   ]
  },
  {
   "cell_type": "markdown",
   "metadata": {},
   "source": [
    "The histograms above show the different distributions of the features in the training dataset. It is hard to identify what each feature might refer to in the context of a banking institution as Santander. Features are mostly bell-shaped but they often have tail bumps and flat, irregular, or pointy centers.\n",
    "\n",
    "Scaling features to facilitate calculations and avoid over-representation of features. Using Min-Max scaler as features do not follow normal distributions."
   ]
  },
  {
   "cell_type": "code",
   "execution_count": 12,
   "metadata": {},
   "outputs": [],
   "source": [
    "for i in train_ds.columns[2:]: \n",
    "  train_ds[i] = preprocessing.minmax_scale(train_ds[i].astype('float64'))"
   ]
  },
  {
   "cell_type": "code",
   "execution_count": 13,
   "metadata": {},
   "outputs": [
    {
     "data": {
      "text/html": [
       "<div>\n",
       "<style scoped>\n",
       "    .dataframe tbody tr th:only-of-type {\n",
       "        vertical-align: middle;\n",
       "    }\n",
       "\n",
       "    .dataframe tbody tr th {\n",
       "        vertical-align: top;\n",
       "    }\n",
       "\n",
       "    .dataframe thead th {\n",
       "        text-align: right;\n",
       "    }\n",
       "</style>\n",
       "<table border=\"1\" class=\"dataframe\">\n",
       "  <thead>\n",
       "    <tr style=\"text-align: right;\">\n",
       "      <th></th>\n",
       "      <th>target</th>\n",
       "      <th>var_0</th>\n",
       "      <th>var_1</th>\n",
       "      <th>var_2</th>\n",
       "      <th>var_3</th>\n",
       "      <th>var_4</th>\n",
       "      <th>var_5</th>\n",
       "      <th>var_6</th>\n",
       "      <th>var_7</th>\n",
       "      <th>var_8</th>\n",
       "      <th>...</th>\n",
       "      <th>var_190</th>\n",
       "      <th>var_191</th>\n",
       "      <th>var_192</th>\n",
       "      <th>var_193</th>\n",
       "      <th>var_194</th>\n",
       "      <th>var_195</th>\n",
       "      <th>var_196</th>\n",
       "      <th>var_197</th>\n",
       "      <th>var_198</th>\n",
       "      <th>var_199</th>\n",
       "    </tr>\n",
       "  </thead>\n",
       "  <tbody>\n",
       "    <tr>\n",
       "      <th>count</th>\n",
       "      <td>200000.000000</td>\n",
       "      <td>200000.000000</td>\n",
       "      <td>200000.000000</td>\n",
       "      <td>200000.000000</td>\n",
       "      <td>200000.000000</td>\n",
       "      <td>200000.000000</td>\n",
       "      <td>200000.000000</td>\n",
       "      <td>200000.000000</td>\n",
       "      <td>200000.000000</td>\n",
       "      <td>200000.000000</td>\n",
       "      <td>...</td>\n",
       "      <td>200000.000000</td>\n",
       "      <td>200000.000000</td>\n",
       "      <td>200000.000000</td>\n",
       "      <td>200000.000000</td>\n",
       "      <td>200000.000000</td>\n",
       "      <td>200000.000000</td>\n",
       "      <td>200000.000000</td>\n",
       "      <td>200000.000000</td>\n",
       "      <td>200000.000000</td>\n",
       "      <td>200000.000000</td>\n",
       "    </tr>\n",
       "    <tr>\n",
       "      <th>mean</th>\n",
       "      <td>0.100490</td>\n",
       "      <td>0.515985</td>\n",
       "      <td>0.527761</td>\n",
       "      <td>0.498848</td>\n",
       "      <td>0.516818</td>\n",
       "      <td>0.517698</td>\n",
       "      <td>0.551997</td>\n",
       "      <td>0.501877</td>\n",
       "      <td>0.501123</td>\n",
       "      <td>0.522330</td>\n",
       "      <td>...</td>\n",
       "      <td>0.532601</td>\n",
       "      <td>0.521950</td>\n",
       "      <td>0.470032</td>\n",
       "      <td>0.502746</td>\n",
       "      <td>0.483477</td>\n",
       "      <td>0.536917</td>\n",
       "      <td>0.507605</td>\n",
       "      <td>0.488022</td>\n",
       "      <td>0.483899</td>\n",
       "      <td>0.527460</td>\n",
       "    </tr>\n",
       "    <tr>\n",
       "      <th>std</th>\n",
       "      <td>0.300653</td>\n",
       "      <td>0.152716</td>\n",
       "      <td>0.159324</td>\n",
       "      <td>0.153221</td>\n",
       "      <td>0.154463</td>\n",
       "      <td>0.139968</td>\n",
       "      <td>0.157852</td>\n",
       "      <td>0.142057</td>\n",
       "      <td>0.152988</td>\n",
       "      <td>0.161333</td>\n",
       "      <td>...</td>\n",
       "      <td>0.140158</td>\n",
       "      <td>0.155773</td>\n",
       "      <td>0.121015</td>\n",
       "      <td>0.132779</td>\n",
       "      <td>0.162998</td>\n",
       "      <td>0.149925</td>\n",
       "      <td>0.167666</td>\n",
       "      <td>0.152592</td>\n",
       "      <td>0.152223</td>\n",
       "      <td>0.154974</td>\n",
       "    </tr>\n",
       "    <tr>\n",
       "      <th>min</th>\n",
       "      <td>0.000000</td>\n",
       "      <td>0.000000</td>\n",
       "      <td>0.000000</td>\n",
       "      <td>0.000000</td>\n",
       "      <td>0.000000</td>\n",
       "      <td>0.000000</td>\n",
       "      <td>0.000000</td>\n",
       "      <td>0.000000</td>\n",
       "      <td>0.000000</td>\n",
       "      <td>0.000000</td>\n",
       "      <td>...</td>\n",
       "      <td>0.000000</td>\n",
       "      <td>0.000000</td>\n",
       "      <td>0.000000</td>\n",
       "      <td>0.000000</td>\n",
       "      <td>0.000000</td>\n",
       "      <td>0.000000</td>\n",
       "      <td>0.000000</td>\n",
       "      <td>0.000000</td>\n",
       "      <td>0.000000</td>\n",
       "      <td>0.000000</td>\n",
       "    </tr>\n",
       "    <tr>\n",
       "      <th>25%</th>\n",
       "      <td>0.000000</td>\n",
       "      <td>0.404160</td>\n",
       "      <td>0.405322</td>\n",
       "      <td>0.383234</td>\n",
       "      <td>0.400217</td>\n",
       "      <td>0.414637</td>\n",
       "      <td>0.428839</td>\n",
       "      <td>0.396761</td>\n",
       "      <td>0.384659</td>\n",
       "      <td>0.396368</td>\n",
       "      <td>...</td>\n",
       "      <td>0.431376</td>\n",
       "      <td>0.404422</td>\n",
       "      <td>0.385063</td>\n",
       "      <td>0.411373</td>\n",
       "      <td>0.360573</td>\n",
       "      <td>0.429027</td>\n",
       "      <td>0.376952</td>\n",
       "      <td>0.379516</td>\n",
       "      <td>0.380712</td>\n",
       "      <td>0.410436</td>\n",
       "    </tr>\n",
       "    <tr>\n",
       "      <th>50%</th>\n",
       "      <td>0.000000</td>\n",
       "      <td>0.508191</td>\n",
       "      <td>0.528530</td>\n",
       "      <td>0.491004</td>\n",
       "      <td>0.518970</td>\n",
       "      <td>0.520277</td>\n",
       "      <td>0.556658</td>\n",
       "      <td>0.497967</td>\n",
       "      <td>0.497138</td>\n",
       "      <td>0.527633</td>\n",
       "      <td>...</td>\n",
       "      <td>0.531653</td>\n",
       "      <td>0.517279</td>\n",
       "      <td>0.467860</td>\n",
       "      <td>0.504894</td>\n",
       "      <td>0.481614</td>\n",
       "      <td>0.533706</td>\n",
       "      <td>0.510850</td>\n",
       "      <td>0.484718</td>\n",
       "      <td>0.487100</td>\n",
       "      <td>0.534987</td>\n",
       "    </tr>\n",
       "    <tr>\n",
       "      <th>75%</th>\n",
       "      <td>0.000000</td>\n",
       "      <td>0.620387</td>\n",
       "      <td>0.645236</td>\n",
       "      <td>0.603369</td>\n",
       "      <td>0.632294</td>\n",
       "      <td>0.619692</td>\n",
       "      <td>0.672246</td>\n",
       "      <td>0.599256</td>\n",
       "      <td>0.615573</td>\n",
       "      <td>0.650798</td>\n",
       "      <td>...</td>\n",
       "      <td>0.630091</td>\n",
       "      <td>0.628818</td>\n",
       "      <td>0.553659</td>\n",
       "      <td>0.598340</td>\n",
       "      <td>0.608396</td>\n",
       "      <td>0.638836</td>\n",
       "      <td>0.638353</td>\n",
       "      <td>0.601460</td>\n",
       "      <td>0.594820</td>\n",
       "      <td>0.648661</td>\n",
       "    </tr>\n",
       "    <tr>\n",
       "      <th>max</th>\n",
       "      <td>1.000000</td>\n",
       "      <td>1.000000</td>\n",
       "      <td>1.000000</td>\n",
       "      <td>1.000000</td>\n",
       "      <td>1.000000</td>\n",
       "      <td>1.000000</td>\n",
       "      <td>1.000000</td>\n",
       "      <td>1.000000</td>\n",
       "      <td>1.000000</td>\n",
       "      <td>1.000000</td>\n",
       "      <td>...</td>\n",
       "      <td>1.000000</td>\n",
       "      <td>1.000000</td>\n",
       "      <td>1.000000</td>\n",
       "      <td>1.000000</td>\n",
       "      <td>1.000000</td>\n",
       "      <td>1.000000</td>\n",
       "      <td>1.000000</td>\n",
       "      <td>1.000000</td>\n",
       "      <td>1.000000</td>\n",
       "      <td>1.000000</td>\n",
       "    </tr>\n",
       "  </tbody>\n",
       "</table>\n",
       "<p>8 rows × 201 columns</p>\n",
       "</div>"
      ],
      "text/plain": [
       "              target          var_0          var_1          var_2  \\\n",
       "count  200000.000000  200000.000000  200000.000000  200000.000000   \n",
       "mean        0.100490       0.515985       0.527761       0.498848   \n",
       "std         0.300653       0.152716       0.159324       0.153221   \n",
       "min         0.000000       0.000000       0.000000       0.000000   \n",
       "25%         0.000000       0.404160       0.405322       0.383234   \n",
       "50%         0.000000       0.508191       0.528530       0.491004   \n",
       "75%         0.000000       0.620387       0.645236       0.603369   \n",
       "max         1.000000       1.000000       1.000000       1.000000   \n",
       "\n",
       "               var_3          var_4          var_5          var_6  \\\n",
       "count  200000.000000  200000.000000  200000.000000  200000.000000   \n",
       "mean        0.516818       0.517698       0.551997       0.501877   \n",
       "std         0.154463       0.139968       0.157852       0.142057   \n",
       "min         0.000000       0.000000       0.000000       0.000000   \n",
       "25%         0.400217       0.414637       0.428839       0.396761   \n",
       "50%         0.518970       0.520277       0.556658       0.497967   \n",
       "75%         0.632294       0.619692       0.672246       0.599256   \n",
       "max         1.000000       1.000000       1.000000       1.000000   \n",
       "\n",
       "               var_7          var_8      ...              var_190  \\\n",
       "count  200000.000000  200000.000000      ...        200000.000000   \n",
       "mean        0.501123       0.522330      ...             0.532601   \n",
       "std         0.152988       0.161333      ...             0.140158   \n",
       "min         0.000000       0.000000      ...             0.000000   \n",
       "25%         0.384659       0.396368      ...             0.431376   \n",
       "50%         0.497138       0.527633      ...             0.531653   \n",
       "75%         0.615573       0.650798      ...             0.630091   \n",
       "max         1.000000       1.000000      ...             1.000000   \n",
       "\n",
       "             var_191        var_192        var_193        var_194  \\\n",
       "count  200000.000000  200000.000000  200000.000000  200000.000000   \n",
       "mean        0.521950       0.470032       0.502746       0.483477   \n",
       "std         0.155773       0.121015       0.132779       0.162998   \n",
       "min         0.000000       0.000000       0.000000       0.000000   \n",
       "25%         0.404422       0.385063       0.411373       0.360573   \n",
       "50%         0.517279       0.467860       0.504894       0.481614   \n",
       "75%         0.628818       0.553659       0.598340       0.608396   \n",
       "max         1.000000       1.000000       1.000000       1.000000   \n",
       "\n",
       "             var_195        var_196        var_197        var_198  \\\n",
       "count  200000.000000  200000.000000  200000.000000  200000.000000   \n",
       "mean        0.536917       0.507605       0.488022       0.483899   \n",
       "std         0.149925       0.167666       0.152592       0.152223   \n",
       "min         0.000000       0.000000       0.000000       0.000000   \n",
       "25%         0.429027       0.376952       0.379516       0.380712   \n",
       "50%         0.533706       0.510850       0.484718       0.487100   \n",
       "75%         0.638836       0.638353       0.601460       0.594820   \n",
       "max         1.000000       1.000000       1.000000       1.000000   \n",
       "\n",
       "             var_199  \n",
       "count  200000.000000  \n",
       "mean        0.527460  \n",
       "std         0.154974  \n",
       "min         0.000000  \n",
       "25%         0.410436  \n",
       "50%         0.534987  \n",
       "75%         0.648661  \n",
       "max         1.000000  \n",
       "\n",
       "[8 rows x 201 columns]"
      ]
     },
     "execution_count": 13,
     "metadata": {},
     "output_type": "execute_result"
    }
   ],
   "source": [
    "train_ds.describe()"
   ]
  },
  {
   "cell_type": "markdown",
   "metadata": {},
   "source": [
    "### Correlation Analysis"
   ]
  },
  {
   "cell_type": "code",
   "execution_count": 14,
   "metadata": {},
   "outputs": [
    {
     "data": {
      "text/plain": [
       "<matplotlib.axes._subplots.AxesSubplot at 0x191bba2d940>"
      ]
     },
     "execution_count": 14,
     "metadata": {},
     "output_type": "execute_result"
    },
    {
     "data": {
      "image/png": "[encoded data removed]",
      "text/plain": [
       "<Figure size 1152x1440 with 2 Axes>"
      ]
     },
     "metadata": {
      "needs_background": "light"
     },
     "output_type": "display_data"
    }
   ],
   "source": [
    "# Compute the correlation matrix\n",
    "corr = train_ds_features.corr()\n",
    "\n",
    "# Generate a mask for the upper triangle\n",
    "mask = np.zeros_like(corr, dtype=np.bool)\n",
    "mask[np.triu_indices_from(mask)] = True\n",
    "\n",
    "# Set up the matplotlib figure\n",
    "f, ax = plt.subplots(figsize=(16, 20))\n",
    "\n",
    "# Generate a custom diverging colormap\n",
    "cmap = sns.diverging_palette(220, 10, as_cmap=True)\n",
    "\n",
    "# Draw the heatmap with the mask and correct aspect ratio\n",
    "sns.heatmap(corr, mask=mask, cmap=cmap, vmax=.3, center=0,\n",
    "            square=True, linewidths=.5, cbar_kws={\"shrink\": .5})"
   ]
  },
  {
   "cell_type": "markdown",
   "metadata": {},
   "source": [
    "The figure above shows there is little or none correlation between the features. Hence, all might be contributing to the classification problem.\n",
    "\n",
    "### Imbalance Analysis\n",
    "\n",
    "Identify number of instances per class."
   ]
  },
  {
   "cell_type": "code",
   "execution_count": 15,
   "metadata": {},
   "outputs": [
    {
     "data": {
      "text/html": [
       "<div>\n",
       "<style scoped>\n",
       "    .dataframe tbody tr th:only-of-type {\n",
       "        vertical-align: middle;\n",
       "    }\n",
       "\n",
       "    .dataframe tbody tr th {\n",
       "        vertical-align: top;\n",
       "    }\n",
       "\n",
       "    .dataframe thead th {\n",
       "        text-align: right;\n",
       "    }\n",
       "</style>\n",
       "<table border=\"1\" class=\"dataframe\">\n",
       "  <thead>\n",
       "    <tr style=\"text-align: right;\">\n",
       "      <th></th>\n",
       "      <th>ID_code</th>\n",
       "    </tr>\n",
       "    <tr>\n",
       "      <th>target</th>\n",
       "      <th></th>\n",
       "    </tr>\n",
       "  </thead>\n",
       "  <tbody>\n",
       "    <tr>\n",
       "      <th>0</th>\n",
       "      <td>179902</td>\n",
       "    </tr>\n",
       "    <tr>\n",
       "      <th>1</th>\n",
       "      <td>20098</td>\n",
       "    </tr>\n",
       "  </tbody>\n",
       "</table>\n",
       "</div>"
      ],
      "text/plain": [
       "        ID_code\n",
       "target         \n",
       "0        179902\n",
       "1         20098"
      ]
     },
     "execution_count": 15,
     "metadata": {},
     "output_type": "execute_result"
    }
   ],
   "source": [
    "train_ds_class_count = train_ds.loc[:, 'ID_code' : 'target'].groupby(by = ['target'], squeeze = True).count()\n",
    "train_ds_class_count"
   ]
  },
  {
   "cell_type": "markdown",
   "metadata": {},
   "source": [
    "The dataset presents a great class imbalance problem: 90% of instances belong to class 0 (no transaction), while 10% belong to class 1 (transaction).\n",
    "\n",
    "## Classification Problem"
   ]
  },
  {
   "cell_type": "code",
   "execution_count": 16,
   "metadata": {},
   "outputs": [],
   "source": [
    "# Divide train dataset by classes\n",
    "train_ds_0 = train_ds.query('target == 0')\n",
    "train_ds_1 = train_ds.query('target == 1')\n",
    "\n",
    "# Divide classification label and data for all train datasets\n",
    "train_ds_target = train_ds.loc[:, 'target']\n",
    "train_ds_data   = train_ds.loc[:, ~train_ds.columns.isin(['ID_code', 'target'])]\n",
    "\n",
    "train_ds_0_target = train_ds_0.loc[:, 'target']\n",
    "train_ds_0_data   = train_ds_0.loc[:, ~train_ds.columns.isin(['ID_code', 'target'])]\n",
    "\n",
    "train_ds_1_target = train_ds_1.loc[:, 'target']\n",
    "train_ds_1_data   = train_ds_1.loc[:, ~train_ds.columns.isin(['ID_code', 'target'])]"
   ]
  },
  {
   "cell_type": "markdown",
   "metadata": {},
   "source": [
    "### Under-sampling Majority Class\n",
    "\n",
    "Using MiniBatch K-Means clustering algorithm to identify **20,098** clusters. K-Means was attempted but process was taking too long to process. This might have been due to the sum of the following:\n",
    "\n",
    "1. Memory or CPU power limitations of the environment.\n",
    "2. High number of instances in the dataset.\n",
    "3. High number of clusters to find (20,098).\n",
    "4. High number of features per instance (to calculate similarity measure).\n",
    "\n",
    "MinBatch K-Means offered better performance at the expense of accuracy."
   ]
  },
  {
   "cell_type": "code",
   "execution_count": 17,
   "metadata": {},
   "outputs": [],
   "source": [
    "mb_k_means = MiniBatchKMeans(init='k-means++', n_clusters=train_ds_class_count.iloc[1, 0], verbose = True, \n",
    "    batch_size=train_ds_class_count.iloc[1, 0])\n",
    "t0 = time.time()"
   ]
  },
  {
   "cell_type": "code",
   "execution_count": 18,
   "metadata": {},
   "outputs": [
    {
     "name": "stdout",
     "output_type": "stream",
     "text": [
      "Init 1/3 with method: k-means++\n",
      "Inertia for init 1/3: 193106.702155\n",
      "Init 2/3 with method: k-means++\n",
      "Inertia for init 2/3: 192405.163260\n",
      "Init 3/3 with method: k-means++\n",
      "Inertia for init 3/3: 193585.523221\n",
      "Minibatch iteration 1/900: mean batch inertia: 3.672622, ewa inertia: 3.672622 \n",
      "Minibatch iteration 2/900: mean batch inertia: 3.655800, ewa inertia: 3.668863 \n",
      "Minibatch iteration 3/900: mean batch inertia: 3.665758, ewa inertia: 3.668170 \n",
      "Minibatch iteration 4/900: mean batch inertia: 3.652967, ewa inertia: 3.664773 \n",
      "Minibatch iteration 5/900: mean batch inertia: 3.643649, ewa inertia: 3.660053 \n",
      "Minibatch iteration 6/900: mean batch inertia: 3.632660, ewa inertia: 3.653933 \n",
      "Minibatch iteration 7/900: mean batch inertia: 3.653241, ewa inertia: 3.653778 \n",
      "Minibatch iteration 8/900: mean batch inertia: 3.631083, ewa inertia: 3.648707 \n",
      "Minibatch iteration 9/900: mean batch inertia: 3.637456, ewa inertia: 3.646193 \n",
      "[MiniBatchKMeans] Reassigning 10049 cluster centers.\n",
      "Minibatch iteration 10/900: mean batch inertia: 3.629078, ewa inertia: 3.642369 \n",
      "Minibatch iteration 11/900: mean batch inertia: 3.672788, ewa inertia: 3.649166 \n",
      "[MiniBatchKMeans] Reassigning 10049 cluster centers.\n",
      "Minibatch iteration 12/900: mean batch inertia: 3.687661, ewa inertia: 3.657767 \n",
      "Minibatch iteration 13/900: mean batch inertia: 3.677952, ewa inertia: 3.662277 \n",
      "Minibatch iteration 14/900: mean batch inertia: 3.679633, ewa inertia: 3.666155 \n",
      "Minibatch iteration 15/900: mean batch inertia: 3.680096, ewa inertia: 3.669270 \n",
      "Minibatch iteration 16/900: mean batch inertia: 3.672886, ewa inertia: 3.670078 \n",
      "Minibatch iteration 17/900: mean batch inertia: 3.692350, ewa inertia: 3.675054 \n",
      "Minibatch iteration 18/900: mean batch inertia: 3.662263, ewa inertia: 3.672196 \n",
      "Minibatch iteration 19/900: mean batch inertia: 3.662736, ewa inertia: 3.670082 \n",
      "Minibatch iteration 20/900: mean batch inertia: 3.662591, ewa inertia: 3.668409 \n",
      "Converged (lack of improvement in inertia) at iteration 20/900\n",
      "Computing label assignment and total inertia\n",
      "Execution Time (ms) =  4666.190050363541\n",
      "Wall time: 1h 17min 46s\n"
     ]
    }
   ],
   "source": [
    "%%time\n",
    "mb_k_means.fit(train_ds_0_data)\n",
    "print('Execution Time (ms) = ', str(time.time() - t0))"
   ]
  },
  {
   "cell_type": "code",
   "execution_count": 19,
   "metadata": {},
   "outputs": [
    {
     "name": "stdout",
     "output_type": "stream",
     "text": [
      "Number of Clusters (Centroids) =  20098\n",
      "Number of Features per Centroid =  200\n"
     ]
    }
   ],
   "source": [
    "print('Number of Clusters (Centroids) = ', len(mb_k_means.cluster_centers_))\n",
    "print('Number of Features per Centroid = ', len(mb_k_means.cluster_centers_[1]))"
   ]
  },
  {
   "cell_type": "code",
   "execution_count": 20,
   "metadata": {},
   "outputs": [],
   "source": [
    "# Extract cluster centroids as instances for majority class\n",
    "train_ds_0_cluster_centroids = mb_k_means.cluster_centers_"
   ]
  },
  {
   "cell_type": "markdown",
   "metadata": {},
   "source": [
    "### Approach 1: Synthetic Instances - Cluster Centroids\n",
    "Create training dataset using cluster centroids as undersampled instances of majority class, and all instances of minority class."
   ]
  },
  {
   "cell_type": "code",
   "execution_count": 21,
   "metadata": {
    "scrolled": true
   },
   "outputs": [
    {
     "data": {
      "text/html": [
       "<div>\n",
       "<style scoped>\n",
       "    .dataframe tbody tr th:only-of-type {\n",
       "        vertical-align: middle;\n",
       "    }\n",
       "\n",
       "    .dataframe tbody tr th {\n",
       "        vertical-align: top;\n",
       "    }\n",
       "\n",
       "    .dataframe thead th {\n",
       "        text-align: right;\n",
       "    }\n",
       "</style>\n",
       "<table border=\"1\" class=\"dataframe\">\n",
       "  <thead>\n",
       "    <tr style=\"text-align: right;\">\n",
       "      <th></th>\n",
       "      <th>var_0</th>\n",
       "      <th>var_1</th>\n",
       "      <th>var_2</th>\n",
       "      <th>var_3</th>\n",
       "      <th>var_4</th>\n",
       "      <th>var_5</th>\n",
       "      <th>var_6</th>\n",
       "      <th>var_7</th>\n",
       "      <th>var_8</th>\n",
       "      <th>var_9</th>\n",
       "      <th>...</th>\n",
       "      <th>var_190</th>\n",
       "      <th>var_191</th>\n",
       "      <th>var_192</th>\n",
       "      <th>var_193</th>\n",
       "      <th>var_194</th>\n",
       "      <th>var_195</th>\n",
       "      <th>var_196</th>\n",
       "      <th>var_197</th>\n",
       "      <th>var_198</th>\n",
       "      <th>var_199</th>\n",
       "    </tr>\n",
       "  </thead>\n",
       "  <tbody>\n",
       "    <tr>\n",
       "      <th>count</th>\n",
       "      <td>20098.000000</td>\n",
       "      <td>20098.000000</td>\n",
       "      <td>20098.000000</td>\n",
       "      <td>20098.000000</td>\n",
       "      <td>20098.000000</td>\n",
       "      <td>20098.000000</td>\n",
       "      <td>20098.000000</td>\n",
       "      <td>20098.000000</td>\n",
       "      <td>20098.000000</td>\n",
       "      <td>20098.000000</td>\n",
       "      <td>...</td>\n",
       "      <td>20098.000000</td>\n",
       "      <td>20098.000000</td>\n",
       "      <td>20098.000000</td>\n",
       "      <td>20098.000000</td>\n",
       "      <td>20098.000000</td>\n",
       "      <td>20098.000000</td>\n",
       "      <td>20098.000000</td>\n",
       "      <td>20098.000000</td>\n",
       "      <td>20098.000000</td>\n",
       "      <td>20098.000000</td>\n",
       "    </tr>\n",
       "    <tr>\n",
       "      <th>mean</th>\n",
       "      <td>0.514548</td>\n",
       "      <td>0.525119</td>\n",
       "      <td>0.498568</td>\n",
       "      <td>0.515514</td>\n",
       "      <td>0.518554</td>\n",
       "      <td>0.551173</td>\n",
       "      <td>0.499897</td>\n",
       "      <td>0.500812</td>\n",
       "      <td>0.520771</td>\n",
       "      <td>0.502998</td>\n",
       "      <td>...</td>\n",
       "      <td>0.530593</td>\n",
       "      <td>0.518729</td>\n",
       "      <td>0.473075</td>\n",
       "      <td>0.502505</td>\n",
       "      <td>0.485109</td>\n",
       "      <td>0.534772</td>\n",
       "      <td>0.506645</td>\n",
       "      <td>0.490943</td>\n",
       "      <td>0.485868</td>\n",
       "      <td>0.524909</td>\n",
       "    </tr>\n",
       "    <tr>\n",
       "      <th>std</th>\n",
       "      <td>0.136037</td>\n",
       "      <td>0.142928</td>\n",
       "      <td>0.137625</td>\n",
       "      <td>0.139773</td>\n",
       "      <td>0.125063</td>\n",
       "      <td>0.141729</td>\n",
       "      <td>0.126635</td>\n",
       "      <td>0.137909</td>\n",
       "      <td>0.145054</td>\n",
       "      <td>0.156003</td>\n",
       "      <td>...</td>\n",
       "      <td>0.123698</td>\n",
       "      <td>0.139890</td>\n",
       "      <td>0.107950</td>\n",
       "      <td>0.119073</td>\n",
       "      <td>0.145781</td>\n",
       "      <td>0.135525</td>\n",
       "      <td>0.152021</td>\n",
       "      <td>0.136673</td>\n",
       "      <td>0.134765</td>\n",
       "      <td>0.140276</td>\n",
       "    </tr>\n",
       "    <tr>\n",
       "      <th>min</th>\n",
       "      <td>0.052068</td>\n",
       "      <td>0.048945</td>\n",
       "      <td>0.054462</td>\n",
       "      <td>0.022315</td>\n",
       "      <td>0.065493</td>\n",
       "      <td>0.103942</td>\n",
       "      <td>0.090240</td>\n",
       "      <td>0.101486</td>\n",
       "      <td>0.046367</td>\n",
       "      <td>0.037994</td>\n",
       "      <td>...</td>\n",
       "      <td>0.051152</td>\n",
       "      <td>0.046542</td>\n",
       "      <td>0.058640</td>\n",
       "      <td>0.064753</td>\n",
       "      <td>0.087162</td>\n",
       "      <td>0.038337</td>\n",
       "      <td>0.021555</td>\n",
       "      <td>0.054108</td>\n",
       "      <td>0.017467</td>\n",
       "      <td>0.037864</td>\n",
       "    </tr>\n",
       "    <tr>\n",
       "      <th>25%</th>\n",
       "      <td>0.423702</td>\n",
       "      <td>0.424754</td>\n",
       "      <td>0.404594</td>\n",
       "      <td>0.419720</td>\n",
       "      <td>0.437309</td>\n",
       "      <td>0.452655</td>\n",
       "      <td>0.415899</td>\n",
       "      <td>0.403512</td>\n",
       "      <td>0.418027</td>\n",
       "      <td>0.391993</td>\n",
       "      <td>...</td>\n",
       "      <td>0.451566</td>\n",
       "      <td>0.422871</td>\n",
       "      <td>0.404817</td>\n",
       "      <td>0.428839</td>\n",
       "      <td>0.384630</td>\n",
       "      <td>0.446355</td>\n",
       "      <td>0.399293</td>\n",
       "      <td>0.401291</td>\n",
       "      <td>0.401549</td>\n",
       "      <td>0.429842</td>\n",
       "    </tr>\n",
       "    <tr>\n",
       "      <th>50%</th>\n",
       "      <td>0.508477</td>\n",
       "      <td>0.524791</td>\n",
       "      <td>0.491065</td>\n",
       "      <td>0.515793</td>\n",
       "      <td>0.519325</td>\n",
       "      <td>0.554561</td>\n",
       "      <td>0.495423</td>\n",
       "      <td>0.497254</td>\n",
       "      <td>0.525044</td>\n",
       "      <td>0.508997</td>\n",
       "      <td>...</td>\n",
       "      <td>0.530525</td>\n",
       "      <td>0.515115</td>\n",
       "      <td>0.472208</td>\n",
       "      <td>0.504442</td>\n",
       "      <td>0.483404</td>\n",
       "      <td>0.531697</td>\n",
       "      <td>0.508553</td>\n",
       "      <td>0.488710</td>\n",
       "      <td>0.489202</td>\n",
       "      <td>0.529562</td>\n",
       "    </tr>\n",
       "    <tr>\n",
       "      <th>75%</th>\n",
       "      <td>0.599290</td>\n",
       "      <td>0.622089</td>\n",
       "      <td>0.588227</td>\n",
       "      <td>0.610158</td>\n",
       "      <td>0.601741</td>\n",
       "      <td>0.650353</td>\n",
       "      <td>0.579446</td>\n",
       "      <td>0.595313</td>\n",
       "      <td>0.626457</td>\n",
       "      <td>0.620591</td>\n",
       "      <td>...</td>\n",
       "      <td>0.609638</td>\n",
       "      <td>0.607693</td>\n",
       "      <td>0.540803</td>\n",
       "      <td>0.580226</td>\n",
       "      <td>0.586547</td>\n",
       "      <td>0.619585</td>\n",
       "      <td>0.616133</td>\n",
       "      <td>0.582995</td>\n",
       "      <td>0.574915</td>\n",
       "      <td>0.626215</td>\n",
       "    </tr>\n",
       "    <tr>\n",
       "      <th>max</th>\n",
       "      <td>0.987893</td>\n",
       "      <td>0.923053</td>\n",
       "      <td>0.940421</td>\n",
       "      <td>0.975984</td>\n",
       "      <td>0.923883</td>\n",
       "      <td>0.990667</td>\n",
       "      <td>0.924349</td>\n",
       "      <td>0.948850</td>\n",
       "      <td>0.986910</td>\n",
       "      <td>0.930739</td>\n",
       "      <td>...</td>\n",
       "      <td>0.957030</td>\n",
       "      <td>0.970786</td>\n",
       "      <td>0.898133</td>\n",
       "      <td>1.000000</td>\n",
       "      <td>0.926538</td>\n",
       "      <td>0.979305</td>\n",
       "      <td>0.940377</td>\n",
       "      <td>0.977764</td>\n",
       "      <td>0.997750</td>\n",
       "      <td>0.979741</td>\n",
       "    </tr>\n",
       "  </tbody>\n",
       "</table>\n",
       "<p>8 rows × 200 columns</p>\n",
       "</div>"
      ],
      "text/plain": [
       "              var_0         var_1         var_2         var_3         var_4  \\\n",
       "count  20098.000000  20098.000000  20098.000000  20098.000000  20098.000000   \n",
       "mean       0.514548      0.525119      0.498568      0.515514      0.518554   \n",
       "std        0.136037      0.142928      0.137625      0.139773      0.125063   \n",
       "min        0.052068      0.048945      0.054462      0.022315      0.065493   \n",
       "25%        0.423702      0.424754      0.404594      0.419720      0.437309   \n",
       "50%        0.508477      0.524791      0.491065      0.515793      0.519325   \n",
       "75%        0.599290      0.622089      0.588227      0.610158      0.601741   \n",
       "max        0.987893      0.923053      0.940421      0.975984      0.923883   \n",
       "\n",
       "              var_5         var_6         var_7         var_8         var_9  \\\n",
       "count  20098.000000  20098.000000  20098.000000  20098.000000  20098.000000   \n",
       "mean       0.551173      0.499897      0.500812      0.520771      0.502998   \n",
       "std        0.141729      0.126635      0.137909      0.145054      0.156003   \n",
       "min        0.103942      0.090240      0.101486      0.046367      0.037994   \n",
       "25%        0.452655      0.415899      0.403512      0.418027      0.391993   \n",
       "50%        0.554561      0.495423      0.497254      0.525044      0.508997   \n",
       "75%        0.650353      0.579446      0.595313      0.626457      0.620591   \n",
       "max        0.990667      0.924349      0.948850      0.986910      0.930739   \n",
       "\n",
       "           ...            var_190       var_191       var_192       var_193  \\\n",
       "count      ...       20098.000000  20098.000000  20098.000000  20098.000000   \n",
       "mean       ...           0.530593      0.518729      0.473075      0.502505   \n",
       "std        ...           0.123698      0.139890      0.107950      0.119073   \n",
       "min        ...           0.051152      0.046542      0.058640      0.064753   \n",
       "25%        ...           0.451566      0.422871      0.404817      0.428839   \n",
       "50%        ...           0.530525      0.515115      0.472208      0.504442   \n",
       "75%        ...           0.609638      0.607693      0.540803      0.580226   \n",
       "max        ...           0.957030      0.970786      0.898133      1.000000   \n",
       "\n",
       "            var_194       var_195       var_196       var_197       var_198  \\\n",
       "count  20098.000000  20098.000000  20098.000000  20098.000000  20098.000000   \n",
       "mean       0.485109      0.534772      0.506645      0.490943      0.485868   \n",
       "std        0.145781      0.135525      0.152021      0.136673      0.134765   \n",
       "min        0.087162      0.038337      0.021555      0.054108      0.017467   \n",
       "25%        0.384630      0.446355      0.399293      0.401291      0.401549   \n",
       "50%        0.483404      0.531697      0.508553      0.488710      0.489202   \n",
       "75%        0.586547      0.619585      0.616133      0.582995      0.574915   \n",
       "max        0.926538      0.979305      0.940377      0.977764      0.997750   \n",
       "\n",
       "            var_199  \n",
       "count  20098.000000  \n",
       "mean       0.524909  \n",
       "std        0.140276  \n",
       "min        0.037864  \n",
       "25%        0.429842  \n",
       "50%        0.529562  \n",
       "75%        0.626215  \n",
       "max        0.979741  \n",
       "\n",
       "[8 rows x 200 columns]"
      ]
     },
     "execution_count": 21,
     "metadata": {},
     "output_type": "execute_result"
    }
   ],
   "source": [
    "train_ds_0_data_usampled = pd.DataFrame(data = train_ds_0_cluster_centroids, columns = train_ds.columns[2:])\n",
    "train_ds_0_data_usampled.describe()"
   ]
  },
  {
   "cell_type": "code",
   "execution_count": 22,
   "metadata": {
    "scrolled": false
   },
   "outputs": [
    {
     "data": {
      "text/html": [
       "<div>\n",
       "<style scoped>\n",
       "    .dataframe tbody tr th:only-of-type {\n",
       "        vertical-align: middle;\n",
       "    }\n",
       "\n",
       "    .dataframe tbody tr th {\n",
       "        vertical-align: top;\n",
       "    }\n",
       "\n",
       "    .dataframe thead th {\n",
       "        text-align: right;\n",
       "    }\n",
       "</style>\n",
       "<table border=\"1\" class=\"dataframe\">\n",
       "  <thead>\n",
       "    <tr style=\"text-align: right;\">\n",
       "      <th></th>\n",
       "      <th>var_0</th>\n",
       "      <th>var_1</th>\n",
       "      <th>var_2</th>\n",
       "      <th>var_3</th>\n",
       "      <th>var_4</th>\n",
       "      <th>var_5</th>\n",
       "      <th>var_6</th>\n",
       "      <th>var_7</th>\n",
       "      <th>var_8</th>\n",
       "      <th>var_9</th>\n",
       "      <th>...</th>\n",
       "      <th>var_190</th>\n",
       "      <th>var_191</th>\n",
       "      <th>var_192</th>\n",
       "      <th>var_193</th>\n",
       "      <th>var_194</th>\n",
       "      <th>var_195</th>\n",
       "      <th>var_196</th>\n",
       "      <th>var_197</th>\n",
       "      <th>var_198</th>\n",
       "      <th>var_199</th>\n",
       "    </tr>\n",
       "  </thead>\n",
       "  <tbody>\n",
       "    <tr>\n",
       "      <th>count</th>\n",
       "      <td>40196.000000</td>\n",
       "      <td>40196.000000</td>\n",
       "      <td>40196.000000</td>\n",
       "      <td>40196.000000</td>\n",
       "      <td>40196.000000</td>\n",
       "      <td>40196.000000</td>\n",
       "      <td>40196.000000</td>\n",
       "      <td>40196.000000</td>\n",
       "      <td>40196.000000</td>\n",
       "      <td>40196.000000</td>\n",
       "      <td>...</td>\n",
       "      <td>40196.000000</td>\n",
       "      <td>40196.000000</td>\n",
       "      <td>40196.000000</td>\n",
       "      <td>40196.000000</td>\n",
       "      <td>40196.000000</td>\n",
       "      <td>40196.000000</td>\n",
       "      <td>40196.000000</td>\n",
       "      <td>40196.000000</td>\n",
       "      <td>40196.000000</td>\n",
       "      <td>40196.000000</td>\n",
       "    </tr>\n",
       "    <tr>\n",
       "      <th>mean</th>\n",
       "      <td>0.527235</td>\n",
       "      <td>0.538438</td>\n",
       "      <td>0.511514</td>\n",
       "      <td>0.518721</td>\n",
       "      <td>0.520411</td>\n",
       "      <td>0.558900</td>\n",
       "      <td>0.515068</td>\n",
       "      <td>0.500275</td>\n",
       "      <td>0.526277</td>\n",
       "      <td>0.490950</td>\n",
       "      <td>...</td>\n",
       "      <td>0.543333</td>\n",
       "      <td>0.531318</td>\n",
       "      <td>0.463795</td>\n",
       "      <td>0.499108</td>\n",
       "      <td>0.478724</td>\n",
       "      <td>0.542188</td>\n",
       "      <td>0.513046</td>\n",
       "      <td>0.481425</td>\n",
       "      <td>0.472815</td>\n",
       "      <td>0.532081</td>\n",
       "    </tr>\n",
       "    <tr>\n",
       "      <th>std</th>\n",
       "      <td>0.151353</td>\n",
       "      <td>0.155482</td>\n",
       "      <td>0.152390</td>\n",
       "      <td>0.148431</td>\n",
       "      <td>0.133928</td>\n",
       "      <td>0.153149</td>\n",
       "      <td>0.140286</td>\n",
       "      <td>0.145721</td>\n",
       "      <td>0.153695</td>\n",
       "      <td>0.167843</td>\n",
       "      <td>...</td>\n",
       "      <td>0.136980</td>\n",
       "      <td>0.153710</td>\n",
       "      <td>0.115219</td>\n",
       "      <td>0.127484</td>\n",
       "      <td>0.156353</td>\n",
       "      <td>0.146234</td>\n",
       "      <td>0.161818</td>\n",
       "      <td>0.147873</td>\n",
       "      <td>0.150777</td>\n",
       "      <td>0.147963</td>\n",
       "    </tr>\n",
       "    <tr>\n",
       "      <th>min</th>\n",
       "      <td>0.002230</td>\n",
       "      <td>0.039591</td>\n",
       "      <td>0.048103</td>\n",
       "      <td>0.022315</td>\n",
       "      <td>0.065493</td>\n",
       "      <td>0.086652</td>\n",
       "      <td>0.024375</td>\n",
       "      <td>0.087400</td>\n",
       "      <td>0.032261</td>\n",
       "      <td>0.030027</td>\n",
       "      <td>...</td>\n",
       "      <td>0.051152</td>\n",
       "      <td>0.017967</td>\n",
       "      <td>0.040665</td>\n",
       "      <td>0.000000</td>\n",
       "      <td>0.074154</td>\n",
       "      <td>0.025436</td>\n",
       "      <td>0.005816</td>\n",
       "      <td>0.026226</td>\n",
       "      <td>0.013114</td>\n",
       "      <td>0.000000</td>\n",
       "    </tr>\n",
       "    <tr>\n",
       "      <th>25%</th>\n",
       "      <td>0.420263</td>\n",
       "      <td>0.425514</td>\n",
       "      <td>0.400873</td>\n",
       "      <td>0.412532</td>\n",
       "      <td>0.427675</td>\n",
       "      <td>0.446895</td>\n",
       "      <td>0.415690</td>\n",
       "      <td>0.392986</td>\n",
       "      <td>0.412420</td>\n",
       "      <td>0.369765</td>\n",
       "      <td>...</td>\n",
       "      <td>0.449731</td>\n",
       "      <td>0.420290</td>\n",
       "      <td>0.385468</td>\n",
       "      <td>0.415617</td>\n",
       "      <td>0.366951</td>\n",
       "      <td>0.440858</td>\n",
       "      <td>0.395123</td>\n",
       "      <td>0.383087</td>\n",
       "      <td>0.376594</td>\n",
       "      <td>0.427038</td>\n",
       "    </tr>\n",
       "    <tr>\n",
       "      <th>50%</th>\n",
       "      <td>0.517916</td>\n",
       "      <td>0.536969</td>\n",
       "      <td>0.503002</td>\n",
       "      <td>0.519560</td>\n",
       "      <td>0.521302</td>\n",
       "      <td>0.561683</td>\n",
       "      <td>0.510262</td>\n",
       "      <td>0.496359</td>\n",
       "      <td>0.530461</td>\n",
       "      <td>0.500543</td>\n",
       "      <td>...</td>\n",
       "      <td>0.540926</td>\n",
       "      <td>0.525783</td>\n",
       "      <td>0.461936</td>\n",
       "      <td>0.501661</td>\n",
       "      <td>0.477873</td>\n",
       "      <td>0.537461</td>\n",
       "      <td>0.515218</td>\n",
       "      <td>0.480215</td>\n",
       "      <td>0.477621</td>\n",
       "      <td>0.537186</td>\n",
       "    </tr>\n",
       "    <tr>\n",
       "      <th>75%</th>\n",
       "      <td>0.625211</td>\n",
       "      <td>0.645971</td>\n",
       "      <td>0.608799</td>\n",
       "      <td>0.622927</td>\n",
       "      <td>0.613351</td>\n",
       "      <td>0.668701</td>\n",
       "      <td>0.606128</td>\n",
       "      <td>0.604101</td>\n",
       "      <td>0.642560</td>\n",
       "      <td>0.621309</td>\n",
       "      <td>...</td>\n",
       "      <td>0.634663</td>\n",
       "      <td>0.629686</td>\n",
       "      <td>0.539341</td>\n",
       "      <td>0.586592</td>\n",
       "      <td>0.591906</td>\n",
       "      <td>0.636961</td>\n",
       "      <td>0.633867</td>\n",
       "      <td>0.585781</td>\n",
       "      <td>0.577435</td>\n",
       "      <td>0.643983</td>\n",
       "    </tr>\n",
       "    <tr>\n",
       "      <th>max</th>\n",
       "      <td>0.987893</td>\n",
       "      <td>0.947011</td>\n",
       "      <td>0.940421</td>\n",
       "      <td>0.975984</td>\n",
       "      <td>0.923883</td>\n",
       "      <td>0.990667</td>\n",
       "      <td>0.973362</td>\n",
       "      <td>0.970817</td>\n",
       "      <td>0.986910</td>\n",
       "      <td>0.930739</td>\n",
       "      <td>...</td>\n",
       "      <td>0.957030</td>\n",
       "      <td>0.989901</td>\n",
       "      <td>0.938217</td>\n",
       "      <td>1.000000</td>\n",
       "      <td>0.967064</td>\n",
       "      <td>0.980617</td>\n",
       "      <td>0.964339</td>\n",
       "      <td>0.977764</td>\n",
       "      <td>0.997750</td>\n",
       "      <td>0.979741</td>\n",
       "    </tr>\n",
       "  </tbody>\n",
       "</table>\n",
       "<p>8 rows × 200 columns</p>\n",
       "</div>"
      ],
      "text/plain": [
       "              var_0         var_1         var_2         var_3         var_4  \\\n",
       "count  40196.000000  40196.000000  40196.000000  40196.000000  40196.000000   \n",
       "mean       0.527235      0.538438      0.511514      0.518721      0.520411   \n",
       "std        0.151353      0.155482      0.152390      0.148431      0.133928   \n",
       "min        0.002230      0.039591      0.048103      0.022315      0.065493   \n",
       "25%        0.420263      0.425514      0.400873      0.412532      0.427675   \n",
       "50%        0.517916      0.536969      0.503002      0.519560      0.521302   \n",
       "75%        0.625211      0.645971      0.608799      0.622927      0.613351   \n",
       "max        0.987893      0.947011      0.940421      0.975984      0.923883   \n",
       "\n",
       "              var_5         var_6         var_7         var_8         var_9  \\\n",
       "count  40196.000000  40196.000000  40196.000000  40196.000000  40196.000000   \n",
       "mean       0.558900      0.515068      0.500275      0.526277      0.490950   \n",
       "std        0.153149      0.140286      0.145721      0.153695      0.167843   \n",
       "min        0.086652      0.024375      0.087400      0.032261      0.030027   \n",
       "25%        0.446895      0.415690      0.392986      0.412420      0.369765   \n",
       "50%        0.561683      0.510262      0.496359      0.530461      0.500543   \n",
       "75%        0.668701      0.606128      0.604101      0.642560      0.621309   \n",
       "max        0.990667      0.973362      0.970817      0.986910      0.930739   \n",
       "\n",
       "           ...            var_190       var_191       var_192       var_193  \\\n",
       "count      ...       40196.000000  40196.000000  40196.000000  40196.000000   \n",
       "mean       ...           0.543333      0.531318      0.463795      0.499108   \n",
       "std        ...           0.136980      0.153710      0.115219      0.127484   \n",
       "min        ...           0.051152      0.017967      0.040665      0.000000   \n",
       "25%        ...           0.449731      0.420290      0.385468      0.415617   \n",
       "50%        ...           0.540926      0.525783      0.461936      0.501661   \n",
       "75%        ...           0.634663      0.629686      0.539341      0.586592   \n",
       "max        ...           0.957030      0.989901      0.938217      1.000000   \n",
       "\n",
       "            var_194       var_195       var_196       var_197       var_198  \\\n",
       "count  40196.000000  40196.000000  40196.000000  40196.000000  40196.000000   \n",
       "mean       0.478724      0.542188      0.513046      0.481425      0.472815   \n",
       "std        0.156353      0.146234      0.161818      0.147873      0.150777   \n",
       "min        0.074154      0.025436      0.005816      0.026226      0.013114   \n",
       "25%        0.366951      0.440858      0.395123      0.383087      0.376594   \n",
       "50%        0.477873      0.537461      0.515218      0.480215      0.477621   \n",
       "75%        0.591906      0.636961      0.633867      0.585781      0.577435   \n",
       "max        0.967064      0.980617      0.964339      0.977764      0.997750   \n",
       "\n",
       "            var_199  \n",
       "count  40196.000000  \n",
       "mean       0.532081  \n",
       "std        0.147963  \n",
       "min        0.000000  \n",
       "25%        0.427038  \n",
       "50%        0.537186  \n",
       "75%        0.643983  \n",
       "max        0.979741  \n",
       "\n",
       "[8 rows x 200 columns]"
      ]
     },
     "execution_count": 22,
     "metadata": {},
     "output_type": "execute_result"
    }
   ],
   "source": [
    "# Join majority and minority classes. Resulting dataset is balanced (20098 on class 0 and 20098 on class 1)\n",
    "X_train_ds = pd.concat([train_ds_0_data_usampled, train_ds_1_data])\n",
    "X_train_ds.describe()"
   ]
  },
  {
   "cell_type": "markdown",
   "metadata": {},
   "source": [
    "### Approach 2: Real Instances - Cluster Centroids Nearest Neighbors\n",
    "Create training dataset using the nearest neighbor of cluster centroids as undersampled instances of majority class, and all instances of minority class."
   ]
  },
  {
   "cell_type": "code",
   "execution_count": 23,
   "metadata": {},
   "outputs": [
    {
     "data": {
      "text/plain": [
       "array([ 30157, 130538,  23772, ..., 143135, 153803,  61460], dtype=int64)"
      ]
     },
     "execution_count": 23,
     "metadata": {},
     "output_type": "execute_result"
    }
   ],
   "source": [
    "closest, _ = pairwise_distances_argmin_min(train_ds_0_cluster_centroids, train_ds_0_data)\n",
    "closest"
   ]
  },
  {
   "cell_type": "code",
   "execution_count": 24,
   "metadata": {},
   "outputs": [
    {
     "data": {
      "text/html": [
       "<div>\n",
       "<style scoped>\n",
       "    .dataframe tbody tr th:only-of-type {\n",
       "        vertical-align: middle;\n",
       "    }\n",
       "\n",
       "    .dataframe tbody tr th {\n",
       "        vertical-align: top;\n",
       "    }\n",
       "\n",
       "    .dataframe thead th {\n",
       "        text-align: right;\n",
       "    }\n",
       "</style>\n",
       "<table border=\"1\" class=\"dataframe\">\n",
       "  <thead>\n",
       "    <tr style=\"text-align: right;\">\n",
       "      <th></th>\n",
       "      <th>var_0</th>\n",
       "      <th>var_1</th>\n",
       "      <th>var_2</th>\n",
       "      <th>var_3</th>\n",
       "      <th>var_4</th>\n",
       "      <th>var_5</th>\n",
       "      <th>var_6</th>\n",
       "      <th>var_7</th>\n",
       "      <th>var_8</th>\n",
       "      <th>var_9</th>\n",
       "      <th>...</th>\n",
       "      <th>var_190</th>\n",
       "      <th>var_191</th>\n",
       "      <th>var_192</th>\n",
       "      <th>var_193</th>\n",
       "      <th>var_194</th>\n",
       "      <th>var_195</th>\n",
       "      <th>var_196</th>\n",
       "      <th>var_197</th>\n",
       "      <th>var_198</th>\n",
       "      <th>var_199</th>\n",
       "    </tr>\n",
       "  </thead>\n",
       "  <tbody>\n",
       "    <tr>\n",
       "      <th>count</th>\n",
       "      <td>20098.000000</td>\n",
       "      <td>20098.000000</td>\n",
       "      <td>20098.000000</td>\n",
       "      <td>20098.000000</td>\n",
       "      <td>20098.000000</td>\n",
       "      <td>20098.000000</td>\n",
       "      <td>20098.000000</td>\n",
       "      <td>20098.000000</td>\n",
       "      <td>20098.000000</td>\n",
       "      <td>20098.000000</td>\n",
       "      <td>...</td>\n",
       "      <td>20098.000000</td>\n",
       "      <td>20098.000000</td>\n",
       "      <td>20098.000000</td>\n",
       "      <td>20098.000000</td>\n",
       "      <td>20098.000000</td>\n",
       "      <td>20098.000000</td>\n",
       "      <td>20098.000000</td>\n",
       "      <td>20098.000000</td>\n",
       "      <td>20098.000000</td>\n",
       "      <td>20098.000000</td>\n",
       "    </tr>\n",
       "    <tr>\n",
       "      <th>mean</th>\n",
       "      <td>0.514274</td>\n",
       "      <td>0.524793</td>\n",
       "      <td>0.497531</td>\n",
       "      <td>0.515067</td>\n",
       "      <td>0.518378</td>\n",
       "      <td>0.551465</td>\n",
       "      <td>0.499745</td>\n",
       "      <td>0.500908</td>\n",
       "      <td>0.520294</td>\n",
       "      <td>0.503185</td>\n",
       "      <td>...</td>\n",
       "      <td>0.530795</td>\n",
       "      <td>0.519005</td>\n",
       "      <td>0.473218</td>\n",
       "      <td>0.502907</td>\n",
       "      <td>0.484777</td>\n",
       "      <td>0.534862</td>\n",
       "      <td>0.507146</td>\n",
       "      <td>0.490911</td>\n",
       "      <td>0.486196</td>\n",
       "      <td>0.524771</td>\n",
       "    </tr>\n",
       "    <tr>\n",
       "      <th>std</th>\n",
       "      <td>0.150162</td>\n",
       "      <td>0.157487</td>\n",
       "      <td>0.151718</td>\n",
       "      <td>0.154052</td>\n",
       "      <td>0.138855</td>\n",
       "      <td>0.156046</td>\n",
       "      <td>0.140414</td>\n",
       "      <td>0.152139</td>\n",
       "      <td>0.160771</td>\n",
       "      <td>0.171348</td>\n",
       "      <td>...</td>\n",
       "      <td>0.137019</td>\n",
       "      <td>0.154252</td>\n",
       "      <td>0.120336</td>\n",
       "      <td>0.132004</td>\n",
       "      <td>0.160286</td>\n",
       "      <td>0.149488</td>\n",
       "      <td>0.167416</td>\n",
       "      <td>0.151317</td>\n",
       "      <td>0.148256</td>\n",
       "      <td>0.154671</td>\n",
       "    </tr>\n",
       "    <tr>\n",
       "      <th>min</th>\n",
       "      <td>0.052068</td>\n",
       "      <td>0.048945</td>\n",
       "      <td>0.054462</td>\n",
       "      <td>0.022315</td>\n",
       "      <td>0.065493</td>\n",
       "      <td>0.103942</td>\n",
       "      <td>0.090240</td>\n",
       "      <td>0.068897</td>\n",
       "      <td>0.046367</td>\n",
       "      <td>0.037994</td>\n",
       "      <td>...</td>\n",
       "      <td>0.051152</td>\n",
       "      <td>0.046542</td>\n",
       "      <td>0.033053</td>\n",
       "      <td>0.064753</td>\n",
       "      <td>0.087162</td>\n",
       "      <td>0.038337</td>\n",
       "      <td>0.021555</td>\n",
       "      <td>0.054108</td>\n",
       "      <td>0.017467</td>\n",
       "      <td>0.037864</td>\n",
       "    </tr>\n",
       "    <tr>\n",
       "      <th>25%</th>\n",
       "      <td>0.404989</td>\n",
       "      <td>0.402897</td>\n",
       "      <td>0.383416</td>\n",
       "      <td>0.399441</td>\n",
       "      <td>0.417398</td>\n",
       "      <td>0.430059</td>\n",
       "      <td>0.398593</td>\n",
       "      <td>0.384786</td>\n",
       "      <td>0.394517</td>\n",
       "      <td>0.370747</td>\n",
       "      <td>...</td>\n",
       "      <td>0.432775</td>\n",
       "      <td>0.403693</td>\n",
       "      <td>0.388947</td>\n",
       "      <td>0.412123</td>\n",
       "      <td>0.363700</td>\n",
       "      <td>0.427060</td>\n",
       "      <td>0.377968</td>\n",
       "      <td>0.383990</td>\n",
       "      <td>0.385424</td>\n",
       "      <td>0.409174</td>\n",
       "    </tr>\n",
       "    <tr>\n",
       "      <th>50%</th>\n",
       "      <td>0.507231</td>\n",
       "      <td>0.525366</td>\n",
       "      <td>0.489217</td>\n",
       "      <td>0.515882</td>\n",
       "      <td>0.520549</td>\n",
       "      <td>0.556546</td>\n",
       "      <td>0.494148</td>\n",
       "      <td>0.495578</td>\n",
       "      <td>0.526505</td>\n",
       "      <td>0.510223</td>\n",
       "      <td>...</td>\n",
       "      <td>0.531312</td>\n",
       "      <td>0.515019</td>\n",
       "      <td>0.471920</td>\n",
       "      <td>0.504417</td>\n",
       "      <td>0.482323</td>\n",
       "      <td>0.530795</td>\n",
       "      <td>0.510121</td>\n",
       "      <td>0.487094</td>\n",
       "      <td>0.489421</td>\n",
       "      <td>0.531698</td>\n",
       "    </tr>\n",
       "    <tr>\n",
       "      <th>75%</th>\n",
       "      <td>0.617199</td>\n",
       "      <td>0.641430</td>\n",
       "      <td>0.601740</td>\n",
       "      <td>0.628896</td>\n",
       "      <td>0.619225</td>\n",
       "      <td>0.670303</td>\n",
       "      <td>0.596317</td>\n",
       "      <td>0.615807</td>\n",
       "      <td>0.647714</td>\n",
       "      <td>0.645548</td>\n",
       "      <td>...</td>\n",
       "      <td>0.627554</td>\n",
       "      <td>0.624503</td>\n",
       "      <td>0.557316</td>\n",
       "      <td>0.597960</td>\n",
       "      <td>0.607809</td>\n",
       "      <td>0.635721</td>\n",
       "      <td>0.638701</td>\n",
       "      <td>0.602172</td>\n",
       "      <td>0.591367</td>\n",
       "      <td>0.646313</td>\n",
       "    </tr>\n",
       "    <tr>\n",
       "      <th>max</th>\n",
       "      <td>0.987893</td>\n",
       "      <td>0.928757</td>\n",
       "      <td>0.941674</td>\n",
       "      <td>0.975984</td>\n",
       "      <td>0.923883</td>\n",
       "      <td>0.990667</td>\n",
       "      <td>0.997590</td>\n",
       "      <td>0.948850</td>\n",
       "      <td>0.986910</td>\n",
       "      <td>0.933761</td>\n",
       "      <td>...</td>\n",
       "      <td>0.999720</td>\n",
       "      <td>0.970786</td>\n",
       "      <td>0.898133</td>\n",
       "      <td>1.000000</td>\n",
       "      <td>0.936478</td>\n",
       "      <td>0.979305</td>\n",
       "      <td>0.940377</td>\n",
       "      <td>0.977764</td>\n",
       "      <td>0.997750</td>\n",
       "      <td>0.979741</td>\n",
       "    </tr>\n",
       "  </tbody>\n",
       "</table>\n",
       "<p>8 rows × 200 columns</p>\n",
       "</div>"
      ],
      "text/plain": [
       "              var_0         var_1         var_2         var_3         var_4  \\\n",
       "count  20098.000000  20098.000000  20098.000000  20098.000000  20098.000000   \n",
       "mean       0.514274      0.524793      0.497531      0.515067      0.518378   \n",
       "std        0.150162      0.157487      0.151718      0.154052      0.138855   \n",
       "min        0.052068      0.048945      0.054462      0.022315      0.065493   \n",
       "25%        0.404989      0.402897      0.383416      0.399441      0.417398   \n",
       "50%        0.507231      0.525366      0.489217      0.515882      0.520549   \n",
       "75%        0.617199      0.641430      0.601740      0.628896      0.619225   \n",
       "max        0.987893      0.928757      0.941674      0.975984      0.923883   \n",
       "\n",
       "              var_5         var_6         var_7         var_8         var_9  \\\n",
       "count  20098.000000  20098.000000  20098.000000  20098.000000  20098.000000   \n",
       "mean       0.551465      0.499745      0.500908      0.520294      0.503185   \n",
       "std        0.156046      0.140414      0.152139      0.160771      0.171348   \n",
       "min        0.103942      0.090240      0.068897      0.046367      0.037994   \n",
       "25%        0.430059      0.398593      0.384786      0.394517      0.370747   \n",
       "50%        0.556546      0.494148      0.495578      0.526505      0.510223   \n",
       "75%        0.670303      0.596317      0.615807      0.647714      0.645548   \n",
       "max        0.990667      0.997590      0.948850      0.986910      0.933761   \n",
       "\n",
       "           ...            var_190       var_191       var_192       var_193  \\\n",
       "count      ...       20098.000000  20098.000000  20098.000000  20098.000000   \n",
       "mean       ...           0.530795      0.519005      0.473218      0.502907   \n",
       "std        ...           0.137019      0.154252      0.120336      0.132004   \n",
       "min        ...           0.051152      0.046542      0.033053      0.064753   \n",
       "25%        ...           0.432775      0.403693      0.388947      0.412123   \n",
       "50%        ...           0.531312      0.515019      0.471920      0.504417   \n",
       "75%        ...           0.627554      0.624503      0.557316      0.597960   \n",
       "max        ...           0.999720      0.970786      0.898133      1.000000   \n",
       "\n",
       "            var_194       var_195       var_196       var_197       var_198  \\\n",
       "count  20098.000000  20098.000000  20098.000000  20098.000000  20098.000000   \n",
       "mean       0.484777      0.534862      0.507146      0.490911      0.486196   \n",
       "std        0.160286      0.149488      0.167416      0.151317      0.148256   \n",
       "min        0.087162      0.038337      0.021555      0.054108      0.017467   \n",
       "25%        0.363700      0.427060      0.377968      0.383990      0.385424   \n",
       "50%        0.482323      0.530795      0.510121      0.487094      0.489421   \n",
       "75%        0.607809      0.635721      0.638701      0.602172      0.591367   \n",
       "max        0.936478      0.979305      0.940377      0.977764      0.997750   \n",
       "\n",
       "            var_199  \n",
       "count  20098.000000  \n",
       "mean       0.524771  \n",
       "std        0.154671  \n",
       "min        0.037864  \n",
       "25%        0.409174  \n",
       "50%        0.531698  \n",
       "75%        0.646313  \n",
       "max        0.979741  \n",
       "\n",
       "[8 rows x 200 columns]"
      ]
     },
     "execution_count": 24,
     "metadata": {},
     "output_type": "execute_result"
    }
   ],
   "source": [
    "train_ds_0_data_usampled_2 = train_ds_0_data.iloc[closest]\n",
    "train_ds_0_data_usampled_2.describe()"
   ]
  },
  {
   "cell_type": "code",
   "execution_count": 25,
   "metadata": {},
   "outputs": [
    {
     "data": {
      "text/html": [
       "<div>\n",
       "<style scoped>\n",
       "    .dataframe tbody tr th:only-of-type {\n",
       "        vertical-align: middle;\n",
       "    }\n",
       "\n",
       "    .dataframe tbody tr th {\n",
       "        vertical-align: top;\n",
       "    }\n",
       "\n",
       "    .dataframe thead th {\n",
       "        text-align: right;\n",
       "    }\n",
       "</style>\n",
       "<table border=\"1\" class=\"dataframe\">\n",
       "  <thead>\n",
       "    <tr style=\"text-align: right;\">\n",
       "      <th></th>\n",
       "      <th>var_0</th>\n",
       "      <th>var_1</th>\n",
       "      <th>var_2</th>\n",
       "      <th>var_3</th>\n",
       "      <th>var_4</th>\n",
       "      <th>var_5</th>\n",
       "      <th>var_6</th>\n",
       "      <th>var_7</th>\n",
       "      <th>var_8</th>\n",
       "      <th>var_9</th>\n",
       "      <th>...</th>\n",
       "      <th>var_190</th>\n",
       "      <th>var_191</th>\n",
       "      <th>var_192</th>\n",
       "      <th>var_193</th>\n",
       "      <th>var_194</th>\n",
       "      <th>var_195</th>\n",
       "      <th>var_196</th>\n",
       "      <th>var_197</th>\n",
       "      <th>var_198</th>\n",
       "      <th>var_199</th>\n",
       "    </tr>\n",
       "  </thead>\n",
       "  <tbody>\n",
       "    <tr>\n",
       "      <th>count</th>\n",
       "      <td>40196.000000</td>\n",
       "      <td>40196.000000</td>\n",
       "      <td>40196.000000</td>\n",
       "      <td>40196.000000</td>\n",
       "      <td>40196.000000</td>\n",
       "      <td>40196.000000</td>\n",
       "      <td>40196.000000</td>\n",
       "      <td>40196.000000</td>\n",
       "      <td>40196.000000</td>\n",
       "      <td>40196.000000</td>\n",
       "      <td>...</td>\n",
       "      <td>40196.000000</td>\n",
       "      <td>40196.000000</td>\n",
       "      <td>40196.000000</td>\n",
       "      <td>40196.000000</td>\n",
       "      <td>40196.000000</td>\n",
       "      <td>40196.000000</td>\n",
       "      <td>40196.000000</td>\n",
       "      <td>40196.000000</td>\n",
       "      <td>40196.000000</td>\n",
       "      <td>40196.000000</td>\n",
       "    </tr>\n",
       "    <tr>\n",
       "      <th>mean</th>\n",
       "      <td>0.527098</td>\n",
       "      <td>0.538275</td>\n",
       "      <td>0.510995</td>\n",
       "      <td>0.518497</td>\n",
       "      <td>0.520323</td>\n",
       "      <td>0.559046</td>\n",
       "      <td>0.514992</td>\n",
       "      <td>0.500323</td>\n",
       "      <td>0.526039</td>\n",
       "      <td>0.491044</td>\n",
       "      <td>...</td>\n",
       "      <td>0.543433</td>\n",
       "      <td>0.531456</td>\n",
       "      <td>0.463866</td>\n",
       "      <td>0.499309</td>\n",
       "      <td>0.478558</td>\n",
       "      <td>0.542233</td>\n",
       "      <td>0.513296</td>\n",
       "      <td>0.481408</td>\n",
       "      <td>0.472978</td>\n",
       "      <td>0.532012</td>\n",
       "    </tr>\n",
       "    <tr>\n",
       "      <th>std</th>\n",
       "      <td>0.157900</td>\n",
       "      <td>0.162376</td>\n",
       "      <td>0.158981</td>\n",
       "      <td>0.155341</td>\n",
       "      <td>0.140559</td>\n",
       "      <td>0.159950</td>\n",
       "      <td>0.146704</td>\n",
       "      <td>0.152637</td>\n",
       "      <td>0.161332</td>\n",
       "      <td>0.175171</td>\n",
       "      <td>...</td>\n",
       "      <td>0.143169</td>\n",
       "      <td>0.160423</td>\n",
       "      <td>0.121205</td>\n",
       "      <td>0.133704</td>\n",
       "      <td>0.163291</td>\n",
       "      <td>0.152884</td>\n",
       "      <td>0.169235</td>\n",
       "      <td>0.154838</td>\n",
       "      <td>0.156994</td>\n",
       "      <td>0.154974</td>\n",
       "    </tr>\n",
       "    <tr>\n",
       "      <th>min</th>\n",
       "      <td>0.002230</td>\n",
       "      <td>0.039591</td>\n",
       "      <td>0.048103</td>\n",
       "      <td>0.022315</td>\n",
       "      <td>0.065493</td>\n",
       "      <td>0.086652</td>\n",
       "      <td>0.024375</td>\n",
       "      <td>0.068897</td>\n",
       "      <td>0.032261</td>\n",
       "      <td>0.030027</td>\n",
       "      <td>...</td>\n",
       "      <td>0.051152</td>\n",
       "      <td>0.017967</td>\n",
       "      <td>0.033053</td>\n",
       "      <td>0.000000</td>\n",
       "      <td>0.074154</td>\n",
       "      <td>0.025436</td>\n",
       "      <td>0.005816</td>\n",
       "      <td>0.026226</td>\n",
       "      <td>0.013114</td>\n",
       "      <td>0.000000</td>\n",
       "    </tr>\n",
       "    <tr>\n",
       "      <th>25%</th>\n",
       "      <td>0.410540</td>\n",
       "      <td>0.413574</td>\n",
       "      <td>0.389771</td>\n",
       "      <td>0.402175</td>\n",
       "      <td>0.417241</td>\n",
       "      <td>0.435007</td>\n",
       "      <td>0.406555</td>\n",
       "      <td>0.383120</td>\n",
       "      <td>0.401025</td>\n",
       "      <td>0.359090</td>\n",
       "      <td>...</td>\n",
       "      <td>0.440038</td>\n",
       "      <td>0.410300</td>\n",
       "      <td>0.378046</td>\n",
       "      <td>0.407809</td>\n",
       "      <td>0.356463</td>\n",
       "      <td>0.431518</td>\n",
       "      <td>0.383267</td>\n",
       "      <td>0.374069</td>\n",
       "      <td>0.368442</td>\n",
       "      <td>0.416821</td>\n",
       "    </tr>\n",
       "    <tr>\n",
       "      <th>50%</th>\n",
       "      <td>0.518645</td>\n",
       "      <td>0.539128</td>\n",
       "      <td>0.503762</td>\n",
       "      <td>0.520256</td>\n",
       "      <td>0.522218</td>\n",
       "      <td>0.564284</td>\n",
       "      <td>0.512417</td>\n",
       "      <td>0.495412</td>\n",
       "      <td>0.531927</td>\n",
       "      <td>0.500216</td>\n",
       "      <td>...</td>\n",
       "      <td>0.543144</td>\n",
       "      <td>0.527396</td>\n",
       "      <td>0.460023</td>\n",
       "      <td>0.501069</td>\n",
       "      <td>0.476448</td>\n",
       "      <td>0.538127</td>\n",
       "      <td>0.517180</td>\n",
       "      <td>0.478253</td>\n",
       "      <td>0.475887</td>\n",
       "      <td>0.539394</td>\n",
       "    </tr>\n",
       "    <tr>\n",
       "      <th>75%</th>\n",
       "      <td>0.632882</td>\n",
       "      <td>0.655894</td>\n",
       "      <td>0.616946</td>\n",
       "      <td>0.632823</td>\n",
       "      <td>0.622458</td>\n",
       "      <td>0.678287</td>\n",
       "      <td>0.615079</td>\n",
       "      <td>0.614366</td>\n",
       "      <td>0.653587</td>\n",
       "      <td>0.634354</td>\n",
       "      <td>...</td>\n",
       "      <td>0.643302</td>\n",
       "      <td>0.638856</td>\n",
       "      <td>0.548003</td>\n",
       "      <td>0.595887</td>\n",
       "      <td>0.603373</td>\n",
       "      <td>0.645612</td>\n",
       "      <td>0.644494</td>\n",
       "      <td>0.596183</td>\n",
       "      <td>0.586487</td>\n",
       "      <td>0.653656</td>\n",
       "    </tr>\n",
       "    <tr>\n",
       "      <th>max</th>\n",
       "      <td>0.987893</td>\n",
       "      <td>0.947011</td>\n",
       "      <td>0.941674</td>\n",
       "      <td>0.975984</td>\n",
       "      <td>0.923883</td>\n",
       "      <td>0.990667</td>\n",
       "      <td>0.997590</td>\n",
       "      <td>0.970817</td>\n",
       "      <td>0.986910</td>\n",
       "      <td>0.933761</td>\n",
       "      <td>...</td>\n",
       "      <td>0.999720</td>\n",
       "      <td>0.989901</td>\n",
       "      <td>0.938217</td>\n",
       "      <td>1.000000</td>\n",
       "      <td>0.967064</td>\n",
       "      <td>0.980617</td>\n",
       "      <td>0.964339</td>\n",
       "      <td>0.977764</td>\n",
       "      <td>0.997750</td>\n",
       "      <td>0.979741</td>\n",
       "    </tr>\n",
       "  </tbody>\n",
       "</table>\n",
       "<p>8 rows × 200 columns</p>\n",
       "</div>"
      ],
      "text/plain": [
       "              var_0         var_1         var_2         var_3         var_4  \\\n",
       "count  40196.000000  40196.000000  40196.000000  40196.000000  40196.000000   \n",
       "mean       0.527098      0.538275      0.510995      0.518497      0.520323   \n",
       "std        0.157900      0.162376      0.158981      0.155341      0.140559   \n",
       "min        0.002230      0.039591      0.048103      0.022315      0.065493   \n",
       "25%        0.410540      0.413574      0.389771      0.402175      0.417241   \n",
       "50%        0.518645      0.539128      0.503762      0.520256      0.522218   \n",
       "75%        0.632882      0.655894      0.616946      0.632823      0.622458   \n",
       "max        0.987893      0.947011      0.941674      0.975984      0.923883   \n",
       "\n",
       "              var_5         var_6         var_7         var_8         var_9  \\\n",
       "count  40196.000000  40196.000000  40196.000000  40196.000000  40196.000000   \n",
       "mean       0.559046      0.514992      0.500323      0.526039      0.491044   \n",
       "std        0.159950      0.146704      0.152637      0.161332      0.175171   \n",
       "min        0.086652      0.024375      0.068897      0.032261      0.030027   \n",
       "25%        0.435007      0.406555      0.383120      0.401025      0.359090   \n",
       "50%        0.564284      0.512417      0.495412      0.531927      0.500216   \n",
       "75%        0.678287      0.615079      0.614366      0.653587      0.634354   \n",
       "max        0.990667      0.997590      0.970817      0.986910      0.933761   \n",
       "\n",
       "           ...            var_190       var_191       var_192       var_193  \\\n",
       "count      ...       40196.000000  40196.000000  40196.000000  40196.000000   \n",
       "mean       ...           0.543433      0.531456      0.463866      0.499309   \n",
       "std        ...           0.143169      0.160423      0.121205      0.133704   \n",
       "min        ...           0.051152      0.017967      0.033053      0.000000   \n",
       "25%        ...           0.440038      0.410300      0.378046      0.407809   \n",
       "50%        ...           0.543144      0.527396      0.460023      0.501069   \n",
       "75%        ...           0.643302      0.638856      0.548003      0.595887   \n",
       "max        ...           0.999720      0.989901      0.938217      1.000000   \n",
       "\n",
       "            var_194       var_195       var_196       var_197       var_198  \\\n",
       "count  40196.000000  40196.000000  40196.000000  40196.000000  40196.000000   \n",
       "mean       0.478558      0.542233      0.513296      0.481408      0.472978   \n",
       "std        0.163291      0.152884      0.169235      0.154838      0.156994   \n",
       "min        0.074154      0.025436      0.005816      0.026226      0.013114   \n",
       "25%        0.356463      0.431518      0.383267      0.374069      0.368442   \n",
       "50%        0.476448      0.538127      0.517180      0.478253      0.475887   \n",
       "75%        0.603373      0.645612      0.644494      0.596183      0.586487   \n",
       "max        0.967064      0.980617      0.964339      0.977764      0.997750   \n",
       "\n",
       "            var_199  \n",
       "count  40196.000000  \n",
       "mean       0.532012  \n",
       "std        0.154974  \n",
       "min        0.000000  \n",
       "25%        0.416821  \n",
       "50%        0.539394  \n",
       "75%        0.653656  \n",
       "max        0.979741  \n",
       "\n",
       "[8 rows x 200 columns]"
      ]
     },
     "execution_count": 25,
     "metadata": {},
     "output_type": "execute_result"
    }
   ],
   "source": [
    "# Join majority and minority classes. Resulting dataset is balanced (20098 on class 0 and 20098 on class 1)\n",
    "X_train_ds_2 = pd.concat([train_ds_0_data_usampled_2, train_ds_1_data])\n",
    "X_train_ds_2.describe()"
   ]
  },
  {
   "cell_type": "markdown",
   "metadata": {},
   "source": [
    "### Prepare Models"
   ]
  },
  {
   "cell_type": "code",
   "execution_count": 26,
   "metadata": {},
   "outputs": [],
   "source": [
    "# Create arrays of 20098 instances of majority and minority classes\n",
    "aux_ar_0 = np.zeros(shape = (train_ds_class_count.iloc[1, 0], 1), dtype = np.int64)\n",
    "aux_ar_1 = np.full((train_ds_class_count.iloc[1, 0], 1), 1)\n",
    "aux_ar = np.concatenate((aux_ar_0, aux_ar_1))\n",
    "aux_ds = pd.DataFrame(data = aux_ar, columns = ['target'])"
   ]
  },
  {
   "cell_type": "code",
   "execution_count": 27,
   "metadata": {},
   "outputs": [],
   "source": [
    "aux_ds.query('target == 1').count()\n",
    "y_train_ds = aux_ds"
   ]
  },
  {
   "cell_type": "code",
   "execution_count": 80,
   "metadata": {
    "scrolled": true
   },
   "outputs": [
    {
     "name": "stderr",
     "output_type": "stream",
     "text": [
      "[Parallel(n_jobs=1)]: Using backend SequentialBackend with 1 concurrent workers.\n"
     ]
    },
    {
     "name": "stdout",
     "output_type": "stream",
     "text": [
      "[CV]  ................................................................\n",
      "[CV] ....................... , score=0.7166666666666666, total=  31.8s\n"
     ]
    },
    {
     "name": "stderr",
     "output_type": "stream",
     "text": [
      "[Parallel(n_jobs=1)]: Done   1 out of   1 | elapsed:   32.1s remaining:    0.0s\n"
     ]
    },
    {
     "name": "stdout",
     "output_type": "stream",
     "text": [
      "[CV]  ................................................................\n",
      "[CV] ....................... , score=0.6619402985074627, total=  29.1s\n"
     ]
    },
    {
     "name": "stderr",
     "output_type": "stream",
     "text": [
      "[Parallel(n_jobs=1)]: Done   2 out of   2 | elapsed:  1.0min remaining:    0.0s\n"
     ]
    },
    {
     "name": "stdout",
     "output_type": "stream",
     "text": [
      "[CV]  ................................................................\n",
      "[CV] ....................... , score=0.6532338308457712, total=  29.4s\n"
     ]
    },
    {
     "name": "stderr",
     "output_type": "stream",
     "text": [
      "[Parallel(n_jobs=1)]: Done   3 out of   3 | elapsed:  1.5min remaining:    0.0s\n"
     ]
    },
    {
     "name": "stdout",
     "output_type": "stream",
     "text": [
      "[CV]  ................................................................\n",
      "[CV] ....................... , score=0.6435323383084577, total=  30.5s\n"
     ]
    },
    {
     "name": "stderr",
     "output_type": "stream",
     "text": [
      "[Parallel(n_jobs=1)]: Done   4 out of   4 | elapsed:  2.0min remaining:    0.0s\n"
     ]
    },
    {
     "name": "stdout",
     "output_type": "stream",
     "text": [
      "[CV]  ................................................................\n",
      "[CV] ....................... , score=0.6549751243781095, total=  29.3s\n"
     ]
    },
    {
     "name": "stderr",
     "output_type": "stream",
     "text": [
      "[Parallel(n_jobs=1)]: Done   5 out of   5 | elapsed:  2.5min remaining:    0.0s\n"
     ]
    },
    {
     "name": "stdout",
     "output_type": "stream",
     "text": [
      "[CV]  ................................................................\n",
      "[CV] ....................... , score=0.6552238805970149, total=  29.4s\n"
     ]
    },
    {
     "name": "stderr",
     "output_type": "stream",
     "text": [
      "[Parallel(n_jobs=1)]: Done   6 out of   6 | elapsed:  3.0min remaining:    0.0s\n"
     ]
    },
    {
     "name": "stdout",
     "output_type": "stream",
     "text": [
      "[CV]  ................................................................\n",
      "[CV] ....................... , score=0.6358208955223881, total=  28.3s\n"
     ]
    },
    {
     "name": "stderr",
     "output_type": "stream",
     "text": [
      "[Parallel(n_jobs=1)]: Done   7 out of   7 | elapsed:  3.5min remaining:    0.0s\n"
     ]
    },
    {
     "name": "stdout",
     "output_type": "stream",
     "text": [
      "[CV]  ................................................................\n",
      "[CV] ....................... , score=0.6412935323383084, total=  30.6s\n"
     ]
    },
    {
     "name": "stderr",
     "output_type": "stream",
     "text": [
      "[Parallel(n_jobs=1)]: Done   8 out of   8 | elapsed:  4.0min remaining:    0.0s\n"
     ]
    },
    {
     "name": "stdout",
     "output_type": "stream",
     "text": [
      "[CV]  ................................................................\n",
      "[CV] ....................... , score=0.6329019412643105, total=  30.7s\n"
     ]
    },
    {
     "name": "stderr",
     "output_type": "stream",
     "text": [
      "[Parallel(n_jobs=1)]: Done   9 out of   9 | elapsed:  4.5min remaining:    0.0s\n"
     ]
    },
    {
     "name": "stdout",
     "output_type": "stream",
     "text": [
      "[CV]  ................................................................\n",
      "[CV] ....................... , score=0.6122448979591837, total=  29.7s\n"
     ]
    },
    {
     "name": "stderr",
     "output_type": "stream",
     "text": [
      "[Parallel(n_jobs=1)]: Done  10 out of  10 | elapsed:  5.0min finished\n"
     ]
    },
    {
     "name": "stdout",
     "output_type": "stream",
     "text": [
      "Wall time: 5min\n"
     ]
    }
   ],
   "source": [
    "%%time\n",
    "# Model 1: Decision tree balanced 1 (Approach 1)\n",
    "\n",
    "tree_balanced = DecisionTreeClassifier(criterion=\"entropy\")\n",
    "tree_balanced_scores = cross_val_score(tree_balanced, X_train_ds, y_train_ds, cv=10, verbose = 10, scoring='roc_auc')"
   ]
  },
  {
   "cell_type": "code",
   "execution_count": 81,
   "metadata": {},
   "outputs": [
    {
     "name": "stderr",
     "output_type": "stream",
     "text": [
      "[Parallel(n_jobs=1)]: Using backend SequentialBackend with 1 concurrent workers.\n"
     ]
    },
    {
     "name": "stdout",
     "output_type": "stream",
     "text": [
      "[CV]  ................................................................\n",
      "[CV] ....................... , score=0.6211442786069652, total=  32.9s\n"
     ]
    },
    {
     "name": "stderr",
     "output_type": "stream",
     "text": [
      "[Parallel(n_jobs=1)]: Done   1 out of   1 | elapsed:   33.0s remaining:    0.0s\n"
     ]
    },
    {
     "name": "stdout",
     "output_type": "stream",
     "text": [
      "[CV]  ................................................................\n",
      "[CV] ....................... , score=0.6144278606965173, total=  32.3s\n"
     ]
    },
    {
     "name": "stderr",
     "output_type": "stream",
     "text": [
      "[Parallel(n_jobs=1)]: Done   2 out of   2 | elapsed:  1.1min remaining:    0.0s\n"
     ]
    },
    {
     "name": "stdout",
     "output_type": "stream",
     "text": [
      "[CV]  ................................................................\n",
      "[CV] ....................... , score=0.6208955223880598, total=  31.2s\n"
     ]
    },
    {
     "name": "stderr",
     "output_type": "stream",
     "text": [
      "[Parallel(n_jobs=1)]: Done   3 out of   3 | elapsed:  1.6min remaining:    0.0s\n"
     ]
    },
    {
     "name": "stdout",
     "output_type": "stream",
     "text": [
      "[CV]  ................................................................\n",
      "[CV] ....................... , score=0.6136815920398009, total=  31.0s\n"
     ]
    },
    {
     "name": "stderr",
     "output_type": "stream",
     "text": [
      "[Parallel(n_jobs=1)]: Done   4 out of   4 | elapsed:  2.1min remaining:    0.0s\n"
     ]
    },
    {
     "name": "stdout",
     "output_type": "stream",
     "text": [
      "[CV]  ................................................................\n",
      "[CV] ....................... , score=0.6124378109452736, total=  32.1s\n"
     ]
    },
    {
     "name": "stderr",
     "output_type": "stream",
     "text": [
      "[Parallel(n_jobs=1)]: Done   5 out of   5 | elapsed:  2.7min remaining:    0.0s\n"
     ]
    },
    {
     "name": "stdout",
     "output_type": "stream",
     "text": [
      "[CV]  ................................................................\n",
      "[CV] ....................... , score=0.6146766169154227, total=  32.2s\n"
     ]
    },
    {
     "name": "stderr",
     "output_type": "stream",
     "text": [
      "[Parallel(n_jobs=1)]: Done   6 out of   6 | elapsed:  3.2min remaining:    0.0s\n"
     ]
    },
    {
     "name": "stdout",
     "output_type": "stream",
     "text": [
      "[CV]  ................................................................\n",
      "[CV] ....................... , score=0.5917910447761194, total=  31.7s\n"
     ]
    },
    {
     "name": "stderr",
     "output_type": "stream",
     "text": [
      "[Parallel(n_jobs=1)]: Done   7 out of   7 | elapsed:  3.7min remaining:    0.0s\n"
     ]
    },
    {
     "name": "stdout",
     "output_type": "stream",
     "text": [
      "[CV]  ................................................................\n",
      "[CV] ....................... , score=0.6151741293532339, total=  33.6s\n"
     ]
    },
    {
     "name": "stderr",
     "output_type": "stream",
     "text": [
      "[Parallel(n_jobs=1)]: Done   8 out of   8 | elapsed:  4.3min remaining:    0.0s\n"
     ]
    },
    {
     "name": "stdout",
     "output_type": "stream",
     "text": [
      "[CV]  ................................................................\n",
      "[CV] ....................... , score=0.6127426580388253, total=  31.6s\n"
     ]
    },
    {
     "name": "stderr",
     "output_type": "stream",
     "text": [
      "[Parallel(n_jobs=1)]: Done   9 out of   9 | elapsed:  4.8min remaining:    0.0s\n"
     ]
    },
    {
     "name": "stdout",
     "output_type": "stream",
     "text": [
      "[CV]  ................................................................\n",
      "[CV] ....................... , score=0.6052762568442012, total=  31.2s\n"
     ]
    },
    {
     "name": "stderr",
     "output_type": "stream",
     "text": [
      "[Parallel(n_jobs=1)]: Done  10 out of  10 | elapsed:  5.3min finished\n"
     ]
    },
    {
     "name": "stdout",
     "output_type": "stream",
     "text": [
      "Wall time: 5min 20s\n"
     ]
    }
   ],
   "source": [
    "%%time\n",
    "# Model 2: Decision tree balanced 2 (Approach 2)\n",
    "\n",
    "tree_balanced_2 = DecisionTreeClassifier(criterion=\"entropy\")\n",
    "tree_balanced_scores_2 = cross_val_score(tree_balanced_2, X_train_ds_2, y_train_ds, cv=10, verbose = 10, scoring='roc_auc')"
   ]
  },
  {
   "cell_type": "code",
   "execution_count": 82,
   "metadata": {},
   "outputs": [
    {
     "name": "stderr",
     "output_type": "stream",
     "text": [
      "[Parallel(n_jobs=1)]: Using backend SequentialBackend with 1 concurrent workers.\n"
     ]
    },
    {
     "name": "stdout",
     "output_type": "stream",
     "text": [
      "[CV]  ................................................................\n",
      "[CV] ....................... , score=0.5489768101297746, total= 3.8min\n"
     ]
    },
    {
     "name": "stderr",
     "output_type": "stream",
     "text": [
      "[Parallel(n_jobs=1)]: Done   1 out of   1 | elapsed:  3.8min remaining:    0.0s\n"
     ]
    },
    {
     "name": "stdout",
     "output_type": "stream",
     "text": [
      "[CV]  ................................................................\n",
      "[CV] ....................... , score=0.5541783744276781, total= 3.6min\n"
     ]
    },
    {
     "name": "stderr",
     "output_type": "stream",
     "text": [
      "[Parallel(n_jobs=1)]: Done   2 out of   2 | elapsed:  7.4min remaining:    0.0s\n"
     ]
    },
    {
     "name": "stdout",
     "output_type": "stream",
     "text": [
      "[CV]  ................................................................\n",
      "[CV] ....................... , score=0.5494426146090006, total= 3.6min\n"
     ]
    },
    {
     "name": "stderr",
     "output_type": "stream",
     "text": [
      "[Parallel(n_jobs=1)]: Done   3 out of   3 | elapsed: 11.0min remaining:    0.0s\n"
     ]
    },
    {
     "name": "stdout",
     "output_type": "stream",
     "text": [
      "[CV]  ................................................................\n",
      "[CV] ....................... , score=0.5557782239442034, total= 3.7min\n"
     ]
    },
    {
     "name": "stderr",
     "output_type": "stream",
     "text": [
      "[Parallel(n_jobs=1)]: Done   4 out of   4 | elapsed: 14.7min remaining:    0.0s\n"
     ]
    },
    {
     "name": "stdout",
     "output_type": "stream",
     "text": [
      "[CV]  ................................................................\n",
      "[CV] ....................... , score=0.5493704352058496, total= 3.6min\n"
     ]
    },
    {
     "name": "stderr",
     "output_type": "stream",
     "text": [
      "[Parallel(n_jobs=1)]: Done   5 out of   5 | elapsed: 18.3min remaining:    0.0s\n"
     ]
    },
    {
     "name": "stdout",
     "output_type": "stream",
     "text": [
      "[CV]  ................................................................\n",
      "[CV] ....................... , score=0.5532448928232655, total= 3.5min\n"
     ]
    },
    {
     "name": "stderr",
     "output_type": "stream",
     "text": [
      "[Parallel(n_jobs=1)]: Done   6 out of   6 | elapsed: 21.8min remaining:    0.0s\n"
     ]
    },
    {
     "name": "stdout",
     "output_type": "stream",
     "text": [
      "[CV]  ................................................................\n",
      "[CV] ....................... , score=0.5498011609545381, total= 3.7min\n"
     ]
    },
    {
     "name": "stderr",
     "output_type": "stream",
     "text": [
      "[Parallel(n_jobs=1)]: Done   7 out of   7 | elapsed: 25.5min remaining:    0.0s\n"
     ]
    },
    {
     "name": "stdout",
     "output_type": "stream",
     "text": [
      "[CV]  ................................................................\n",
      "[CV] ......................... , score=0.54746376510997, total= 3.7min\n"
     ]
    },
    {
     "name": "stderr",
     "output_type": "stream",
     "text": [
      "[Parallel(n_jobs=1)]: Done   8 out of   8 | elapsed: 29.3min remaining:    0.0s\n"
     ]
    },
    {
     "name": "stdout",
     "output_type": "stream",
     "text": [
      "[CV]  ................................................................\n",
      "[CV] ........................ , score=0.557594424312384, total= 3.8min\n"
     ]
    },
    {
     "name": "stderr",
     "output_type": "stream",
     "text": [
      "[Parallel(n_jobs=1)]: Done   9 out of   9 | elapsed: 33.1min remaining:    0.0s\n"
     ]
    },
    {
     "name": "stdout",
     "output_type": "stream",
     "text": [
      "[CV]  ................................................................\n",
      "[CV] ....................... , score=0.5545295198842561, total= 4.0min\n"
     ]
    },
    {
     "name": "stderr",
     "output_type": "stream",
     "text": [
      "[Parallel(n_jobs=1)]: Done  10 out of  10 | elapsed: 37.0min finished\n"
     ]
    },
    {
     "name": "stdout",
     "output_type": "stream",
     "text": [
      "Wall time: 37min 1s\n"
     ]
    }
   ],
   "source": [
    "%%time\n",
    "# Model 3: Decision tree imbalanced\n",
    "\n",
    "tree_imbalanced = DecisionTreeClassifier(criterion=\"entropy\")\n",
    "tree_imbalanced_scores = cross_val_score(tree_imbalanced, train_ds_data, train_ds_target, cv=10, verbose = 10, scoring='roc_auc')"
   ]
  },
  {
   "cell_type": "code",
   "execution_count": 83,
   "metadata": {},
   "outputs": [
    {
     "name": "stdout",
     "output_type": "stream",
     "text": [
      "Balanced Decision Tree Approach 1 Score =  0.6507833406387673\n"
     ]
    }
   ],
   "source": [
    "print('Balanced Decision Tree Approach 1 Score = ', np.mean(tree_balanced_scores))"
   ]
  },
  {
   "cell_type": "code",
   "execution_count": 84,
   "metadata": {},
   "outputs": [
    {
     "name": "stdout",
     "output_type": "stream",
     "text": [
      "Balanced Decision Tree Approach 2 Score =  0.6122247770604419\n"
     ]
    }
   ],
   "source": [
    "print('Balanced Decision Tree Approach 2 Score = ', np.mean(tree_balanced_scores_2))"
   ]
  },
  {
   "cell_type": "code",
   "execution_count": 85,
   "metadata": {},
   "outputs": [
    {
     "name": "stdout",
     "output_type": "stream",
     "text": [
      "Imbalanced Decision Tree Score =  0.5520380221400921\n"
     ]
    }
   ],
   "source": [
    "print('Imbalanced Decision Tree Score = ', np.mean(tree_imbalanced_scores))"
   ]
  },
  {
   "cell_type": "markdown",
   "metadata": {},
   "source": [
    "The initial comparison between the models show that both balanced data approaches perform better than imbalanced data model. Additionally, approach 1 model had the best performance of all three. This is a slightly different result from that obtained by the researchers in the reference paper, were usually approach 2 achieved better results.\n",
    "\n",
    "### Evaluation Against Kernel\n",
    "\n",
    "Finally, we will execute the same evaluation approach and classifier used by the reference Kernel. The following code has been extracted from the Kernel and the credit belongs to __[Comparing Resamplig Techniques and XGBoost v.14](https://www.kaggle.com/nholloway/comparing-resampling-techniques-and-xgboost)__. We wanted to repeat their steps to compare results as close as possible. Therefore, same code and same parameters have been used."
   ]
  },
  {
   "cell_type": "code",
   "execution_count": 54,
   "metadata": {},
   "outputs": [],
   "source": [
    "\n",
    "# Organizes XGB results and extracts metadata from Trials object\n",
    "def org_results(trials, hyperparams, ratio, model_name):\n",
    "    fit_idx = -1\n",
    "    for idx, fit  in enumerate(trials):\n",
    "        hyp = fit['misc']['vals']\n",
    "        xgb_hyp = {key:[val] for key, val in hyperparams.items()}\n",
    "        if hyp == xgb_hyp:\n",
    "            fit_idx = idx\n",
    "            break\n",
    "            \n",
    "    train_time = str(trials[-1]['refresh_time'] - trials[0]['book_time'])\n",
    "    acc = round(trials[fit_idx]['result']['accuracy'], 3)\n",
    "    train_auc = round(trials[fit_idx]['result']['train auc'], 3)\n",
    "    test_auc = round(trials[fit_idx]['result']['test auc'], 3)\n",
    "    conf_matrix = trials[fit_idx]['result']['conf matrix']\n",
    "\n",
    "    results = {\n",
    "        'model': model_name,\n",
    "        'ratio': ratio,\n",
    "        'parameter search time': train_time,\n",
    "        'accuracy': acc,\n",
    "        'test auc score': test_auc,\n",
    "        'training auc score': train_auc,\n",
    "        'confusion matrix': conf_matrix,\n",
    "        'parameters': hyperparams\n",
    "    }\n",
    "    return results\n",
    "\n",
    "def data_ratio(y):\n",
    "    unique, count = np.unique(y, return_counts=True)\n",
    "    ratio = round(count[0]/count[1], 2)\n",
    "    return f'{ratio}:1 ({count[0]}/{count[1]})'\n"
   ]
  },
  {
   "cell_type": "code",
   "execution_count": 74,
   "metadata": {},
   "outputs": [],
   "source": [
    "def xgb_train(data_x, data_y, md_name):\n",
    "    ratio = data_ratio(data_y)\n",
    "    train_x, test_x, train_y, test_y = train_test_split(data_x, data_y, test_size=0.20)\n",
    "   \n",
    "    def xgb_objective(space, early_stopping_rounds=20):\n",
    "\n",
    "        model = XGBClassifier(\n",
    "            learning_rate = space['learning_rate'], \n",
    "            n_estimators = int(space['n_estimators']), \n",
    "            max_depth = int(space['max_depth']), \n",
    "            min_child_weight = space['m_child_weight'], \n",
    "            gamma = space['gamma'], \n",
    "            subsample = space['subsample'], \n",
    "            colsample_bytree = space['colsample_bytree'],\n",
    "            objective = 'binary:logistic'\n",
    "        )\n",
    "\n",
    "        model.fit(train_x, train_y, \n",
    "                  eval_set = [(train_x, train_y), (test_x, test_y)],\n",
    "                  eval_metric = 'auc',\n",
    "                  early_stopping_rounds = early_stopping_rounds,\n",
    "                  verbose = False)\n",
    "        \n",
    "        predictions = model.predict(test_x)\n",
    "        test_preds = model.predict_proba(test_x)[:,1]\n",
    "        train_preds = model.predict_proba(train_x)[:,1]\n",
    "\n",
    "        xgb_booster = model.get_booster()\n",
    "        train_auc = roc_auc_score(train_y, train_preds)\n",
    "        test_auc = roc_auc_score(test_y, test_preds)\n",
    "        accuracy = accuracy_score(test_y, predictions) \n",
    "        conf_matrix = confusion_matrix(test_y, predictions)\n",
    "\n",
    "        return {'status': STATUS_OK, 'loss': 1-test_auc, 'accuracy': accuracy,\n",
    "                'test auc': test_auc, 'train auc': train_auc, 'conf matrix': conf_matrix\n",
    "               }\n",
    "\n",
    "    space = {\n",
    "        'n_estimators': hp.quniform('n_estimators', 50, 1000, 25),\n",
    "        'max_depth': hp.quniform('max_depth', 1, 12, 1),\n",
    "        'm_child_weight': hp.quniform('m_child_weight', 1, 6, 1),\n",
    "        'gamma': hp.quniform('gamma', 0.5, 1, 0.05),\n",
    "        'subsample': hp.quniform('subsample', 0.5, 1, 0.05),\n",
    "        'learning_rate': hp.loguniform('learning_rate', np.log(.001), np.log(.3)),\n",
    "        'colsample_bytree': hp.quniform('colsample_bytree', .5, 1, .1)\n",
    "    }\n",
    "\n",
    "    trials = Trials()\n",
    "    xgb_hyperparams = fmin(fn = xgb_objective, \n",
    "                     max_evals = 10, \n",
    "                     trials = trials,\n",
    "                     algo = tpe.suggest,\n",
    "                     space = space\n",
    "                     )\n",
    "    \n",
    "    results = org_results(trials.trials, xgb_hyperparams, ratio, md_name)\n",
    "    return results\n"
   ]
  },
  {
   "cell_type": "code",
   "execution_count": 75,
   "metadata": {},
   "outputs": [
    {
     "name": "stdout",
     "output_type": "stream",
     "text": [
      "100%|██████████| 10/10 [37:52<00:00, 295.67s/it, best loss: 0.0823884596377985]\n",
      "Wall time: 37min 53s\n"
     ]
    }
   ],
   "source": [
    "%%time\n",
    "balanced_results = xgb_train(X_train_ds, y_train_ds['target'], 'Balanced Data 1')"
   ]
  },
  {
   "cell_type": "code",
   "execution_count": 76,
   "metadata": {},
   "outputs": [
    {
     "name": "stdout",
     "output_type": "stream",
     "text": [
      "100%|██████████| 10/10 [1:00:22<00:00, 413.85s/it, best loss: 0.11527006695420738]\n",
      "Wall time: 1h 22s\n"
     ]
    }
   ],
   "source": [
    "%%time\n",
    "balanced_results_2 = xgb_train(X_train_ds_2, y_train_ds['target'], 'Balanced Data 2')"
   ]
  },
  {
   "cell_type": "code",
   "execution_count": 77,
   "metadata": {},
   "outputs": [
    {
     "name": "stdout",
     "output_type": "stream",
     "text": [
      "Wall time: 0 ns\n",
      "100%|██████████| 10/10 [3:32:33<00:00, 1426.72s/it, best loss: 0.11132861186158372] \n"
     ]
    }
   ],
   "source": [
    "%%time\n",
    "imbalanced_results = xgb_train(train_ds_data, train_ds_target, 'Imbalanced Data')"
   ]
  },
  {
   "cell_type": "code",
   "execution_count": 78,
   "metadata": {},
   "outputs": [],
   "source": [
    "balanced_confusion = balanced_results.pop('confusion matrix')\n",
    "balanced_confusion_2 = balanced_results_2.pop('confusion matrix')\n",
    "imbalanced_confusion = imbalanced_results.pop('confusion matrix')"
   ]
  },
  {
   "cell_type": "code",
   "execution_count": 79,
   "metadata": {},
   "outputs": [
    {
     "data": {
      "image/png": "[encoded data removed]",
      "text/plain": [
       "<Figure size 720x360 with 6 Axes>"
      ]
     },
     "metadata": {
      "needs_background": "light"
     },
     "output_type": "display_data"
    },
    {
     "data": {
      "text/html": [
       "<div>\n",
       "<style scoped>\n",
       "    .dataframe tbody tr th:only-of-type {\n",
       "        vertical-align: middle;\n",
       "    }\n",
       "\n",
       "    .dataframe tbody tr th {\n",
       "        vertical-align: top;\n",
       "    }\n",
       "\n",
       "    .dataframe thead th {\n",
       "        text-align: right;\n",
       "    }\n",
       "</style>\n",
       "<table border=\"1\" class=\"dataframe\">\n",
       "  <thead>\n",
       "    <tr style=\"text-align: right;\">\n",
       "      <th></th>\n",
       "      <th>accuracy</th>\n",
       "      <th>model</th>\n",
       "      <th>parameter search time</th>\n",
       "      <th>parameters</th>\n",
       "      <th>ratio</th>\n",
       "      <th>test auc score</th>\n",
       "      <th>training auc score</th>\n",
       "    </tr>\n",
       "  </thead>\n",
       "  <tbody>\n",
       "    <tr>\n",
       "      <th>0</th>\n",
       "      <td>0.832</td>\n",
       "      <td>Balanced Data 1</td>\n",
       "      <td>0:37:52.848000</td>\n",
       "      <td>{'colsample_bytree': 0.6000000000000001, 'gamm...</td>\n",
       "      <td>1.0:1 (20098/20098)</td>\n",
       "      <td>0.918</td>\n",
       "      <td>1.000</td>\n",
       "    </tr>\n",
       "    <tr>\n",
       "      <th>1</th>\n",
       "      <td>0.805</td>\n",
       "      <td>Balanced Data 2</td>\n",
       "      <td>1:00:21.995000</td>\n",
       "      <td>{'colsample_bytree': 0.6000000000000001, 'gamm...</td>\n",
       "      <td>1.0:1 (20098/20098)</td>\n",
       "      <td>0.885</td>\n",
       "      <td>1.000</td>\n",
       "    </tr>\n",
       "    <tr>\n",
       "      <th>2</th>\n",
       "      <td>0.917</td>\n",
       "      <td>Imbalanced Data</td>\n",
       "      <td>3:32:33.131000</td>\n",
       "      <td>{'colsample_bytree': 0.9, 'gamma': 0.8, 'learn...</td>\n",
       "      <td>8.95:1 (179902/20098)</td>\n",
       "      <td>0.889</td>\n",
       "      <td>0.916</td>\n",
       "    </tr>\n",
       "  </tbody>\n",
       "</table>\n",
       "</div>"
      ],
      "text/plain": [
       "   accuracy            model parameter search time  \\\n",
       "0     0.832  Balanced Data 1        0:37:52.848000   \n",
       "1     0.805  Balanced Data 2        1:00:21.995000   \n",
       "2     0.917  Imbalanced Data        3:32:33.131000   \n",
       "\n",
       "                                          parameters                  ratio  \\\n",
       "0  {'colsample_bytree': 0.6000000000000001, 'gamm...    1.0:1 (20098/20098)   \n",
       "1  {'colsample_bytree': 0.6000000000000001, 'gamm...    1.0:1 (20098/20098)   \n",
       "2  {'colsample_bytree': 0.9, 'gamma': 0.8, 'learn...  8.95:1 (179902/20098)   \n",
       "\n",
       "   test auc score  training auc score  \n",
       "0           0.918               1.000  \n",
       "1           0.885               1.000  \n",
       "2           0.889               0.916  "
      ]
     },
     "metadata": {},
     "output_type": "display_data"
    }
   ],
   "source": [
    "fig, ax = plt.subplots(1, 3, figsize=(10, 5))\n",
    "sns.heatmap(balanced_confusion, annot=True, cmap= 'viridis_r', ax=ax[0])\n",
    "sns.heatmap(balanced_confusion_2, annot=True, cmap= 'viridis_r', ax=ax[1])\n",
    "sns.heatmap(imbalanced_confusion, annot=True, cmap= 'viridis_r', ax=ax[2])\n",
    "ax[0].set_title('Balanced Dataset 1')\n",
    "ax[1].set_title('Balanced Dataset 2')\n",
    "ax[2].set_title('Imbalanced Dataset')\n",
    "plt.show()\n",
    "final_results = pd.DataFrame([balanced_results, balanced_results_2, imbalanced_results])\n",
    "display(final_results)"
   ]
  }
 ],
 "metadata": {
  "kernelspec": {
   "display_name": "Python 3",
   "language": "python",
   "name": "python3"
  },
  "language_info": {
   "codemirror_mode": {
    "name": "ipython",
    "version": 3
   },
   "file_extension": ".py",
   "mimetype": "text/x-python",
   "name": "python",
   "nbconvert_exporter": "python",
   "pygments_lexer": "ipython3",
   "version": "3.6.5"
  }
 },
 "nbformat": 4,
 "nbformat_minor": 2
}
